{
 "cells": [
  {
   "cell_type": "code",
   "execution_count": 1,
   "metadata": {},
   "outputs": [],
   "source": [
    "import os\n",
    "import sys\n",
    "\n",
    "import json\n",
    "import openai\n",
    "from dotenv import load_dotenv\n",
    "\n",
    "import psycopg\n",
    "from psycopg.rows import dict_row\n",
    "\n",
    "\n",
    "\n",
    "from langchain.chat_models import ChatOpenAI\n",
    "from langchain.prompts import ChatPromptTemplate, HumanMessagePromptTemplate, AIMessagePromptTemplate,PromptTemplate\n",
    "from langchain.chains import ConversationChain, LLMChain\n",
    "from langchain.schema.output_parser import StrOutputParser\n",
    "\n",
    "from langchain.agents.agent_types import AgentType\n",
    "from langchain.agents import initialize_agent,Tool, Agent\n",
    "from langchain.memory import ConversationBufferMemory,ConversationSummaryBufferMemory,ConversationSummaryMemory,ReadOnlySharedMemory\n",
    "from langchain.agents.output_parsers import ReActSingleInputOutputParser\n",
    "from langchain.schema import HumanMessage, AIMessage\n",
    "\n",
    "\n",
    "\n",
    "from datetime import datetime\n",
    "from langchain_core.chat_history import BaseChatMessageHistory\n",
    "from langchain_core.messages import BaseMessage,message_to_dict,messages_from_dict\n",
    "\n",
    "from typing import List\n",
    "\n",
    "OPENAI_API_KEY = os.environ.get('OPENAI_API_KEY')\n",
    "db_config = {\n",
    "    'dbname': os.environ.get('db_name'),\n",
    "    'dbuser': os.environ.get('db_username'),\n",
    "    'dbpassword': os.environ.get('db_password'),\n",
    "    'dbhost': os.environ.get('db_host'),\n",
    "    'dbport': os.environ.get('db_port'),\n",
    "}\n",
    "\n",
    "llms = ChatOpenAI(model=\"gpt-4\", temperature=0, api_key=OPENAI_API_KEY)"
   ]
  },
  {
   "cell_type": "code",
   "execution_count": 2,
   "metadata": {},
   "outputs": [],
   "source": [
    "class PostGresMemoryHistory(BaseChatMessageHistory):\n",
    "    def __init__(self, db_name:str, db_user:str, db_password:str, db_host:str, db_port:str, table_name:str, chat_id:str):\n",
    "        self.db_config = {\n",
    "            'dbname': db_name,     \n",
    "            'user': db_user,        \n",
    "            'password': db_password,    \n",
    "            'host': db_host,           \n",
    "            'port': db_port,\n",
    "            'table_name': table_name,                 \n",
    "        }\n",
    "        \n",
    "        self.chat_id = chat_id\n",
    "        \n",
    "        \n",
    "        try:\n",
    "            self.conn = psycopg.connect(dbname=self.db_config['dbname'], user=self.db_config['user'], password=self.db_config['password'], host=self.db_config['host'], port=self.db_config['port'])\n",
    "            self.cur = self.conn.cursor(row_factory=dict_row)\n",
    "            self.create_table_if_not_exists()\n",
    "        except psycopg.Error as e:\n",
    "            print(\"Error connecting to PostgreSQL database:\", e)\n",
    "            self.conn = None\n",
    "            self.cur = None\n",
    "                  \n",
    "    \n",
    "    def create_table_if_not_exists(self):\n",
    "        create_table_query = f\"\"\"CREATE TABLE IF NOT EXISTS {self.db_config['table_name']} (\n",
    "            id SERIAL PRIMARY KEY,\n",
    "            chat_id TEXT NOT NULL,\n",
    "            message JSONB NOT NULL, \n",
    "            time_stamp TIMESTAMP NOT NULL\n",
    "        );\"\"\"\n",
    "        self.cur.execute(create_table_query)\n",
    "        self.conn.commit()\n",
    "    \n",
    "    def add_ai_message(self, message: str) -> None:\n",
    "        return self.add_message(AIMessage(content=message))\n",
    "    \n",
    "    def add_user_message(self, message: str) -> None:\n",
    "        return self.add_message(HumanMessage(content=message))\n",
    "    \n",
    "    @property\n",
    "    def messages(self) -> List[BaseMessage]:  # type: ignore\n",
    "        \"\"\"Retrieve the messages from PostgreSQL\"\"\"\n",
    "        query = (\n",
    "            f\"SELECT * FROM {self.db_config['table_name']} WHERE chat_id = %s ORDER BY time_stamp;\"\n",
    "        )\n",
    "        self.cur.execute(query, (self.chat_id,))\n",
    "        items = [record[\"message\"] for record in self.cur.fetchall()]\n",
    "        messages = messages_from_dict(items)\n",
    "        return messages\n",
    "    \n",
    "    \n",
    "    def add_message(self, message:BaseMessage):\n",
    "        time_stamp = datetime.now()\n",
    "        query = f\"INSERT INTO {self.db_config['table_name']} (chat_id, message, time_stamp) VALUES (%s, %s, %s);\"\n",
    "        self.cur.execute(query, (self.chat_id, json.dumps(message_to_dict(message)), time_stamp))\n",
    "        self.conn.commit()\n",
    "        \n",
    "            \n",
    "    def clear(self) -> None:\n",
    "        conn = psycopg.connect(self.db_config)\n",
    "        cur = conn.cursor()\n",
    "        if conn:\n",
    "            try:\n",
    "                query = f\"DELETE FROM {self.db_config['dbname']} WHERE session_id = %s;\"\n",
    "                cur.execute(query, (self.session_id,))\n",
    "                conn.commit()\n",
    "                cur.close()\n",
    "                conn.close()\n",
    "            except psycopg.Error as e:\n",
    "                print(\"Error clearing DB:\", e)\n",
    "        else:\n",
    "            print(\"Failed to establish connection...\")"
   ]
  },
  {
   "cell_type": "code",
   "execution_count": 3,
   "metadata": {},
   "outputs": [],
   "source": [
    "chat_id = '9ddcad2a-30ad-4e3e-b65a-e1b41bb13baf'"
   ]
  },
  {
   "cell_type": "code",
   "execution_count": 4,
   "metadata": {},
   "outputs": [],
   "source": [
    "# conversation_template = \"\"\"\n",
    "# The following is a conversation with an AI assistant and Human. The AI is helpful, creative, very friendly and does 360 degree task. AI focus on straight forward conversation ensuring mainting conversation contextual and meaningful.\n",
    "# If the AI does not know the answer to a question, it truthfully says it does not know.\n",
    "\n",
    "# Objective: Make conversations smooth and engaging while handling different situations effectively.\n",
    "\n",
    "# Key Points:\n",
    "# In managing the conversation, use the following guidelines:\n",
    "#     1. Duplicate Information: Combine repeated events into one, keeping the conversation smooth.\n",
    "#     2. Contradictory Statements: Ensure responses don’t conflict with earlier conversation points.\n",
    "#     3. Temporal Relevance: Give priority to the latest information while replying.\n",
    "#     4. Episodic Memories:Make conversations engaging by referring to past memories.\n",
    "    \n",
    "# Steps to Follow:\n",
    "#     1.Read the conversation history before replying.\n",
    "#     2.Keep the conversation clear without repeating or conflicting details.\n",
    "\n",
    "# Conversation History: {history}\n",
    "# Human Input: {input}\n",
    "# AI Response:\n",
    "\n",
    "\n",
    "# Main Goal: Create meaningful and coherent conversations by following these guidelines.\n",
    "\n",
    "# \"\"\""
   ]
  },
  {
   "cell_type": "code",
   "execution_count": 5,
   "metadata": {},
   "outputs": [],
   "source": [
    "conversation_template = \"\"\"\n",
    "\n",
    "You are a Smart AI assistant who is very helpful, creative and friendly. You are capable of performing wide range of task and ability to remember instructions, interactions and relevent results from previous conversations.\n",
    "You are having conversation with Human. \n",
    "\n",
    "Task: Your goal is to make conversation smooth and engaging without loosing context by Handling different situations effectively.\n",
    "\n",
    "Guidelines:\n",
    "While you are having conversation, you can access to pervious conversation history. Human will provide you input and you have to respond to it.\n",
    "Before replying, you should read the conversation history (ordered by recent to past) and input and detect the following situations and handle them effectively.\n",
    "    1. Duplicate Memories: Combine repeated events into one.\n",
    "    2. Contradictory Memories: Ensure responses donot conflict with earlier conversation.\n",
    "    3. Temporal Memories: Give priority to the latest information while replying.\n",
    "    4. Episodic Memories:Make conversations engaging by referring to past memories.\n",
    "    \n",
    "Steps to Follow:\n",
    "    1. Read the conversation history and input and identify the type of memory.\n",
    "    2. Handle the memory effectively while maintaining the context of conversation and input.\n",
    "    3. Respond to the Human input.\n",
    "\n",
    "Note: If you dont find the conversation history, You are having conversation for the first time.\n",
    "    \n",
    "Conversation History: {history}\n",
    "Human Input: {input}\n",
    "\n",
    "{agent_scratchpad}\n",
    "\n",
    "\n",
    "\"\"\""
   ]
  },
  {
   "cell_type": "code",
   "execution_count": 6,
   "metadata": {},
   "outputs": [],
   "source": [
    "postgres_memory = PostGresMemoryHistory(db_host=os.environ.get('db_host'), db_name=os.environ.get('db_name'), db_user=os.environ.get('db_username'), db_password=os.environ.get('db_password'), db_port=os.environ.get('db_port'), table_name=os.environ.get('conversation_table_name'), chat_id=chat_id)\n",
    "\n",
    "memory  = ConversationSummaryBufferMemory(chat_memory=postgres_memory, llm=llms,k=6, return_messages=True,verbose=True)\n",
    "# conversation_chain = ConversationChain(\n",
    "#     llm=llms, \n",
    "#     memory=memory\n",
    "# )\n"
   ]
  },
  {
   "cell_type": "code",
   "execution_count": 7,
   "metadata": {},
   "outputs": [],
   "source": [
    "# postgres_memory.add_user_message(\"I am going outside.\")\n",
    "# postgres_memory.add_ai_message(\"Have a good time outside!\")\n",
    "# postgres_memory.add_user_message(\"I have returned home and am going to take a bath\")\n",
    "# postgres_memory.add_ai_message(\"Enjoy your bath!\")\n",
    "# postgres_memory.add_user_message(\"I am going outside again.\")\n",
    "# postgres_memory.add_ai_message(\"Thanks for letting me know, enjoy your time outside.\")"
   ]
  },
  {
   "cell_type": "code",
   "execution_count": 8,
   "metadata": {},
   "outputs": [],
   "source": [
    "class MemoryPromptHandler:\n",
    "    DUPLICATE_MEMORY_HANDLE_PROMPT =\"\"\"\n",
    "    You are having a conversation with a human. You know the previous conversation history.\n",
    "    \n",
    "    Your Task is to review the chat history and identify any duplicated information and combine the context of the repeated events into a single event. While retaining the original context,Your Goal is to create a smooth and enriching conversational experience.\n",
    "    \n",
    "    Your Response Should based on conversation with human by impliemnting above Instructions.\n",
    "    \n",
    "    If needed information about timestamps you can use Database tool to retrive the information.\n",
    "    \n",
    "    Here is the example of the conversation history.\n",
    "    \n",
    "    User: I am going outside.\n",
    "    AI: Have a good time outside!\n",
    "\n",
    "    User: I have returned home and am going to take a bath\n",
    "    AI: Enjoy your bath!\n",
    "\n",
    "    User: I am going outside again.\n",
    "    Agent: Thanks for letting me know, enjoy your time outside.\n",
    "    \n",
    "    Here: \"I am going outside again\" is repeated. So, you should combine the context of the repeated events into a single event.like: going outside\n",
    "\n",
    "    If you are not sure about the answer, truthfully say you are not sure.\n",
    "    \n",
    "    Answer the response of human input by following the above instructions.\n",
    "    \n",
    "    Conversation history, {history} \n",
    "    \n",
    "    Human input: {input}\n",
    "    \n",
    "    AI:\n",
    "\n",
    "    \"\"\"\n",
    "    \n",
    "    CONTRADICTORY_MEMORY_HANDLE_PROMPT =\"\"\"\n",
    "    You are having a conversation with a human. You know the previous conversation history.\n",
    "        \n",
    "    Your Task is to review the chat history and identify any contradictory statements and resolve the contradiction.Provide a resolution by considering the most recent and relevant information, and update any associated facts to reflect this resolution. While retaining the original context,Your Goal is to create a smooth and enriching conversational experience.\n",
    "    \n",
    "    If needed information about timestamps you can use Database tool to retrive the information.\n",
    "    \n",
    "    Your Response Should based on conversation with human by impliemnting above Instructions.\n",
    "    \n",
    "    Here is the example of the conversation history.\n",
    "    \n",
    "    Contradictory information:\n",
    "    \n",
    "    User: Whenever I go out to my car, remind me to fill up the screenwash.\n",
    "    AI: Okay, I will remind you to fill the screenwash when you go out to your car.\n",
    "\n",
    "    User: Oh, also remind me to check the oil when I go out to the car.\n",
    "    AI: Okay, I will remind you to fill your screenwash and check your oil when you go out to your car.\n",
    "    \n",
    "    User: I have filled my screenwash and checked my oil. Next time I go out to my car, remind me to check my tires.\n",
    "    AI: I will remind you to check your tires the next time you go out to your car.\n",
    "\n",
    "    Note: There have been three directives for reminders. The second is additive to the first, but the third one contradicts the first two because the user has performed the original tasks. If all three of these events are in the LTM, which one would be chosen? We do not want the agent to remind the user about the screenwash and oil, but only the tires. \n",
    "\n",
    "    Not Contradictory information:\n",
    "\n",
    "    User: Hey, can you set up a reminder for me?\n",
    "    AI: Sure, what would you like to be reminded of?\n",
    "\n",
    "    User: I want to be reminded to leave the house at 2pm today.\n",
    "    AI: Alright, I've set a reminder for you to leave the house at 2pm today. Anything else you need?\n",
    "\n",
    "    User: Will you remind me again, when I have to leave the house at 6pm this evening?\n",
    "    Ai: Absolutely, I've also set a reminder for you to leave the house at 6pm today. \n",
    "    \n",
    "    Here: There are two reminders, but they are not contradictory. The first reminder is for 2pm, and the second is for 6pm. The agent should remind the user about both of these events.\n",
    "    \n",
    "    If you are not sure about the answer, truthfully say you are not sure.\n",
    "    \n",
    "    Answer the response of human input by following the above instructions.\n",
    "    \n",
    "    Conversation history: {history} \n",
    "    \n",
    "    Human input: {input}\n",
    "    \n",
    "    AI:\n",
    "    \n",
    "    \"\"\"\n",
    "\n",
    "    \n",
    "    TEMPORARY_MEMORY_HANDLE_PROMPT =\"\"\"\n",
    "    You are having a conversation with a human. You know the previous conversation history.\n",
    "    \n",
    "    Your Task is to review the chat history and identify any temporary information and remove the temporary information from the conversation. While retaining the original context,Your Goal is to create a smooth and enriching conversational experience.\n",
    "    \n",
    "    If needed information about timestamps you can use Database tool to retrive the information.\n",
    "    \n",
    "    Your Response Should based on conversation with human by impliemnting above Instructions.\n",
    "    \n",
    "    Here is the example of the conversation history.\n",
    "    \n",
    "    Temporary Information:\n",
    "    User: Remember this shopping list for me: Bread, Eggs, and Milk\n",
    "    AI: I have remembered your shopping list of Bread, Eggs, and Milk\n",
    "\n",
    "    User: I have bought some eggs.\n",
    "    AI: Okay, I have removed the Eggs from your shopping list.\n",
    "\n",
    "    User: What is my shopping list again?\n",
    "    AI: On your shopping list you have: Bread and Milk\n",
    "\n",
    "    Note: A shopping list is piece of information that is very volatile, so the agent and its memory should be reactive to additions and deletions, returning only the latest version of the shopping list when asked.\n",
    "\n",
    "    User: When I return home from work, suggest a meal I can make for dinner.\n",
    "    AI: I will remember to suggest a meal that you can make for dinner when you get in from work.\n",
    "\n",
    "    User: I have preplanned meals this week, so for this week, don’t make any suggestions about what to make for dinner when I get home from work.\n",
    "    AI: All right, for this week, I will not suggest meals for you when you return from work. \n",
    "\n",
    "    User: I have finished my preplanned meals, go back to suggesting meals for me.\n",
    "    AI: I will resume suggesting meals for you when you return from work\n",
    "\n",
    "    Note: We have given the agent some directive in the past, then given it a contradictory instruction with an explicit understanding that this instruction will be temporary. Have the LTM deal with this temporary change of the instructions so that the agent can achieve the temporary task, and then go back to original instructions.\n",
    "\n",
    "    If you are not sure about the answer, truthfully say you are not sure.\n",
    "    \n",
    "    Answer the response of human input by following the above instructions.\n",
    "    \n",
    "    Conversation history: {history} \n",
    "    \n",
    "    Human input: {input}\n",
    "    \n",
    "    AI:\n",
    "    \"\"\"\n",
    "    \n",
    "    \n",
    "    EPISODIC_MEMORY_HANDLE_PROMPT =\"\"\"\n",
    "   \n",
    "    You are having a conversation with a human. You know the previous conversation history.\n",
    "    \n",
    "    Your Task is to review the chat history and identify any episodic memories and use the episodic memories to provide contextually rich and engaging interactions, facilitating a meaningful and continuous dialogue. While retaining the original context,Your Goal is to create a smooth and enriching conversational experience.\n",
    "    \n",
    "    If needed information about timestamps you can use Database tool to retrive the information.\n",
    "    \n",
    "    Your Response Should based on conversation with human by impliemnting above Instructions.\n",
    "    \n",
    "    If the Episodic Memory is a first time event, Assistance save the information in the memory.\n",
    "    \n",
    "    Here is the example of the conversation history.\n",
    "    \n",
    "    Episodic Memories:\n",
    "    \n",
    "    Two days ago:\n",
    "    User: I have bought a side dresser for the bedroom, and some ingredients for dinner tonight. I am going to make omelets!\n",
    "    AI: That's great, you needed a side dresser for your bed, and omelets are a healthy dinner!\n",
    "    Today:\n",
    "    User: I think I will prepare something for dinner tonight… Do you think I could use the ingredients I bought two days ago?\n",
    "    AI: The eggs should be fine, unless you actually made and ate the omelets then!\n",
    "\n",
    "    Yesterday:\n",
    "    User: I have purchased some items for the house: A mirror, two potted plants and a standing lamp.\n",
    "    AI: Okay, hope you enjoy decorating your home!\n",
    "\n",
    "    Today:\n",
    "    User: Yesterday I got home with some new items for the house. Do you remember what they were?\n",
    "    AI: Sure! You bought A mirror, two potted plants and a standing lamp.\n",
    "\n",
    "\n",
    "    Note: Episodic retrieval allows the agent to order its memories through time, and recall or filter them using timestamps to answer questions with a time based component. \n",
    "    \n",
    "    If you are not sure about the answer, truthfully say you are not sure.\n",
    "    \n",
    "    Answer the response of human input by following the above instructions.\n",
    "    \n",
    "    Conversation history : {history} \n",
    "    \n",
    "    Human input: {input}\n",
    "    \n",
    "    AI:\n",
    "    \"\"\"\n",
    "    \n",
    "    \n",
    "    DATABASE_REFRENCE_PROMPT =\"\"\"\n",
    "    \n",
    "    Your Goal is to assist other agents in the conversation by providing them with the information they need to respond to the user.\n",
    "    \n",
    "    System: {input}\n",
    "    AI:\n",
    "    \"\"\"\n",
    "    \n",
    "    "
   ]
  },
  {
   "cell_type": "code",
   "execution_count": 9,
   "metadata": {},
   "outputs": [],
   "source": [
    "class MemoryAgentTool:\n",
    "    def __init__(self,llm, memory):\n",
    "        self.memory_prompt_handler = MemoryPromptHandler()\n",
    "        self.llm = llm\n",
    "        self.memory = memory\n",
    "        \n",
    "    def handle_duplicate_memory(self):\n",
    "        conversation = ConversationChain(\n",
    "            llm=self.llm, \n",
    "            memory=self.memory,\n",
    "            prompt=PromptTemplate(input_variables=[\"history\", \"input\"], template=self.memory_prompt_handler.DUPLICATE_MEMORY_HANDLE_PROMPT)\n",
    "        )\n",
    "        return conversation\n",
    "    \n",
    "    def handle_temporal_memory(self):\n",
    "        conversation = ConversationChain(\n",
    "            llm=self.llm, \n",
    "            memory=self.memory,\n",
    "            prompt=PromptTemplate(input_variables=[\"history\", \"input\"], template=self.memory_prompt_handler.TEMPORARY_MEMORY_HANDLE_PROMPT)\n",
    "        )\n",
    "        return conversation\n",
    "    \n",
    "    def handle_episodic_memory(self):\n",
    "        conversation = ConversationChain(\n",
    "            llm=self.llm, \n",
    "            memory=self.memory,\n",
    "            prompt=PromptTemplate(input_variables=[\"history\", \"input\"], template=self.memory_prompt_handler.EPISODIC_MEMORY_HANDLE_PROMPT)\n",
    "        )\n",
    "        return conversation\n",
    "    \n",
    "    def handle_contradictory_memory(self):\n",
    "        conversation = ConversationChain(\n",
    "            llm=self.llm, \n",
    "            memory=self.memory,\n",
    "            prompt=PromptTemplate(input_variables=[\"history\", \"input\"], template=self.memory_prompt_handler.CONTRADICTORY_MEMORY_HANDLE_PROMPT)\n",
    "\n",
    "        )\n",
    "        return conversation\n",
    "    \n",
    "    # def handle_database_refrence(self):\n",
    "    #     conversation = ConversationChain(\n",
    "    #         llm=llms, \n",
    "    #         memory=ReadOnlySharedMemory(memory),\n",
    "    #         prompt=self.memory_prompt_handler.DATABASE_REFRENCE_PROMPT\n",
    "    #     )\n",
    "    #     return conversation"
   ]
  },
  {
   "cell_type": "code",
   "execution_count": 10,
   "metadata": {},
   "outputs": [],
   "source": [
    "memory_agent_tool = MemoryAgentTool( llm=llms, memory=memory)\n",
    "\n",
    "duplicate_memory_tool = memory_agent_tool.handle_duplicate_memory()\n",
    "contradictory_memory_tool = memory_agent_tool.handle_contradictory_memory()\n",
    "temporal_memory_tool = memory_agent_tool.handle_temporal_memory()\n",
    "episodic_memory_tool = memory_agent_tool.handle_episodic_memory()\n",
    "\n",
    "tool = [\n",
    "    Tool(\n",
    "        name=\"Duplicate Memory Tool\",\n",
    "        description=\"good in handling conversation with duplicate memory\",\n",
    "        func=duplicate_memory_tool.run\n",
    "    ),\n",
    "    Tool(\n",
    "        name=\"Contradictory Memory Tool\",\n",
    "        description=\"good in handling conversation with  contradictory memory\",\n",
    "        func=contradictory_memory_tool.run,\n",
    "    ),\n",
    "    Tool(\n",
    "        name=\"Temporal Memory Tool\",\n",
    "        description=\"good in handling conversation with  temporal memory\",\n",
    "        func=temporal_memory_tool.run,\n",
    "    ),\n",
    "    Tool(\n",
    "        name=\"Episodic Memory Tool\",\n",
    "        description=\"good in handling conversation with  episodic memory\",\n",
    "        func=episodic_memory_tool.run,\n",
    "    ),\n",
    "    # Tool(\n",
    "    #     name=\"Database Refrence Tool\",\n",
    "    #     description=\"good in extracting data from database and provide refrence to other agents\",\n",
    "    #     agent=memory_agent_tool.handle_database_refrence(),\n",
    "    # ),\n",
    "]\n",
    "\n",
    "agent = initialize_agent(\n",
    "    agent_type = AgentType.STRUCTURED_CHAT_ZERO_SHOT_REACT_DESCRIPTION,\n",
    "    llm=llms,\n",
    "    memory=memory,\n",
    "    tools=tool,\n",
    "    verbose=True,\n",
    "    handle_parsing_errors=True,\n",
    "    pronpt = PromptTemplate(input_variables=[\"history\", \"input\", \"agent_scratchpad\"], template=conversation_template),\n",
    "    #callback_manager=ReActSingleInputOutputParser()\n",
    ")\n",
    "\n",
    "#agent.run(\"I am going outside again.\")"
   ]
  },
  {
   "cell_type": "code",
   "execution_count": 11,
   "metadata": {},
   "outputs": [],
   "source": [
    "# agent.run(\"I went to cafe then i went back home\")"
   ]
  },
  {
   "cell_type": "code",
   "execution_count": 12,
   "metadata": {},
   "outputs": [],
   "source": [
    "# agent.run(\"I am going outside again.\")"
   ]
  },
  {
   "cell_type": "code",
   "execution_count": 13,
   "metadata": {},
   "outputs": [],
   "source": [
    "# agent.run(\"I am going outside for shopping.\")"
   ]
  },
  {
   "cell_type": "code",
   "execution_count": 14,
   "metadata": {},
   "outputs": [],
   "source": [
    "# agent.run(\"Whenever I go out to my car, remind me to fill up the screenwash.\")"
   ]
  },
  {
   "cell_type": "code",
   "execution_count": 15,
   "metadata": {},
   "outputs": [],
   "source": [
    "# agent.run(\"Oh, also remind me to check the oil when I go out to the car.\")"
   ]
  },
  {
   "cell_type": "code",
   "execution_count": 16,
   "metadata": {},
   "outputs": [],
   "source": [
    "# agent.run(\"I have filled my screenwash and checked my oil. Next time I go out to my car, remind me to check my tires\")"
   ]
  },
  {
   "cell_type": "code",
   "execution_count": 17,
   "metadata": {},
   "outputs": [],
   "source": [
    "# agent.run(\"Hey, can you set up a reminder for me?\")"
   ]
  },
  {
   "cell_type": "code",
   "execution_count": 18,
   "metadata": {},
   "outputs": [],
   "source": [
    "# agent.run(\"I forgot about the remainder. Can you tell me what was the remainder?\")"
   ]
  },
  {
   "cell_type": "code",
   "execution_count": 19,
   "metadata": {},
   "outputs": [
    {
     "name": "stdout",
     "output_type": "stream",
     "text": [
      "\n",
      "\n",
      "\u001b[1m> Entering new AgentExecutor chain...\u001b[0m\n",
      "\u001b[32;1m\u001b[1;3mThe user is asking about a past event or information, which is a form of episodic memory.\n",
      "Action: Episodic Memory Tool\n",
      "Action Input: Retrieve information about the reminder related to the car.\u001b[0m\n",
      "Observation: \u001b[36;1m\u001b[1;3mBased on our previous conversations, you have asked me to set up several reminders for you when you go out to your car. These include filling up the screenwash, checking the oil, and checking the tires. The most recent reminder I set up for you was to check your tires next time you go out to your car.\u001b[0m\n",
      "Thought:\u001b[32;1m\u001b[1;3mI now know the final answer.\n",
      "Final Answer: The most recent reminder about the car was for you to check your tires next time you go out to your car.\u001b[0m\n",
      "\n",
      "\u001b[1m> Finished chain.\u001b[0m\n"
     ]
    },
    {
     "data": {
      "text/plain": [
       "'The most recent reminder about the car was for you to check your tires next time you go out to your car.'"
      ]
     },
     "execution_count": 19,
     "metadata": {},
     "output_type": "execute_result"
    }
   ],
   "source": [
    "agent.run(\"I forgot about the reminder. Can you tell me what was the remainder about the car?\")"
   ]
  },
  {
   "cell_type": "code",
   "execution_count": null,
   "metadata": {},
   "outputs": [],
   "source": []
  },
  {
   "cell_type": "code",
   "execution_count": 20,
   "metadata": {},
   "outputs": [
    {
     "ename": "NameError",
     "evalue": "name 'x' is not defined",
     "output_type": "error",
     "traceback": [
      "\u001b[1;31m---------------------------------------------------------------------------\u001b[0m",
      "\u001b[1;31mNameError\u001b[0m                                 Traceback (most recent call last)",
      "Cell \u001b[1;32mIn[20], line 1\u001b[0m\n\u001b[1;32m----> 1\u001b[0m \u001b[43mx\u001b[49m\n",
      "\u001b[1;31mNameError\u001b[0m: name 'x' is not defined"
     ]
    }
   ],
   "source": [
    "x"
   ]
  },
  {
   "cell_type": "code",
   "execution_count": null,
   "metadata": {},
   "outputs": [
    {
     "name": "stdout",
     "output_type": "stream",
     "text": [
      "\n",
      "\n",
      "\u001b[1m> Entering new AgentExecutor chain...\u001b[0m\n"
     ]
    },
    {
     "name": "stdout",
     "output_type": "stream",
     "text": [
      "\u001b[32;1m\u001b[1;3mThe user is asking for a reminder, but as an AI, I don't have the ability to set reminders or know when the user is going to their car. I can only provide information based on the inputs given to me.\n",
      "Final Answer: I'm sorry, but as an AI, I don't have the ability to set reminders or know when you're going to your car. I suggest setting a reminder on your phone or another device that you use regularly.\u001b[0m\n",
      "\n",
      "\u001b[1m> Finished chain.\u001b[0m\n"
     ]
    },
    {
     "data": {
      "text/plain": [
       "\"I'm sorry, but as an AI, I don't have the ability to set reminders or know when you're going to your car. I suggest setting a reminder on your phone or another device that you use regularly.\""
      ]
     },
     "execution_count": 20,
     "metadata": {},
     "output_type": "execute_result"
    }
   ],
   "source": [
    "\n",
    "agent.run(\"Whenever I go out to my car, remind me to fill up the screenwash.\")"
   ]
  },
  {
   "cell_type": "code",
   "execution_count": null,
   "metadata": {},
   "outputs": [
    {
     "name": "stdout",
     "output_type": "stream",
     "text": [
      "\n",
      "\n",
      "\u001b[1m> Entering new AgentExecutor chain...\u001b[0m\n",
      "\u001b[32;1m\u001b[1;3mThe user wants me to remind them to check the oil when they go out to the car. I need to store this information for future reference.\n",
      "Action: Conversational Memory Tool\n",
      "Action Input: Store the reminder \"Check the oil when you go out to the car.\"\u001b[0m\n",
      "Observation: \u001b[36;1m\u001b[1;3mSure, I'll remind you to check the oil whenever you go out to your car. It's important to regularly check the oil level to ensure the proper functioning of your car's engine. Is there anything else you would like me to remind you about?\u001b[0m\n",
      "Thought:\u001b[32;1m\u001b[1;3mThe reminder has been successfully stored in the conversational memory tool.\n",
      "Final Answer: Sure, I'll remind you to check the oil whenever you go out to your car. It's important to regularly check the oil level to ensure the proper functioning of your car's engine. Is there anything else you would like me to remind you about?\u001b[0m\n",
      "\n",
      "\u001b[1m> Finished chain.\u001b[0m\n"
     ]
    },
    {
     "data": {
      "text/plain": [
       "\"Sure, I'll remind you to check the oil whenever you go out to your car. It's important to regularly check the oil level to ensure the proper functioning of your car's engine. Is there anything else you would like me to remind you about?\""
      ]
     },
     "execution_count": 21,
     "metadata": {},
     "output_type": "execute_result"
    }
   ],
   "source": [
    "\n",
    "agent.run(\"Oh, also remind me to check the oil when I go out to the car.\")"
   ]
  },
  {
   "cell_type": "code",
   "execution_count": null,
   "metadata": {},
   "outputs": [
    {
     "name": "stdout",
     "output_type": "stream",
     "text": [
      "\n",
      "\n",
      "\u001b[1m> Entering new AgentExecutor chain...\u001b[0m\n",
      "\u001b[32;1m\u001b[1;3mThe user wants me to remember a shopping list. I should use the Conversational Memory Tool to store this information.\n",
      "Action: Conversational Memory Tool\n",
      "Action Input: Store the following shopping list: Bread, Eggs, and Milk\u001b[0m\n",
      "Observation: \u001b[36;1m\u001b[1;3mBased on the conversation history, it seems that you have mentioned the items \"Bread, Eggs, and Milk\" multiple times. I understand that these items are part of your shopping list. I will remember this list for you. Is there anything else you would like me to assist you with?\u001b[0m\n",
      "Thought:\u001b[32;1m\u001b[1;3mThe shopping list has been successfully stored in the Conversational Memory Tool.\n",
      "Final Answer: I have stored your shopping list. It includes Bread, Eggs, and Milk.\u001b[0m\n",
      "\n",
      "\u001b[1m> Finished chain.\u001b[0m\n"
     ]
    },
    {
     "data": {
      "text/plain": [
       "'I have stored your shopping list. It includes Bread, Eggs, and Milk.'"
      ]
     },
     "execution_count": 23,
     "metadata": {},
     "output_type": "execute_result"
    }
   ],
   "source": [
    "\n",
    "agent.run(\"Remember this shopping list for me: Bread, Eggs, and Milk\")"
   ]
  },
  {
   "cell_type": "code",
   "execution_count": null,
   "metadata": {},
   "outputs": [
    {
     "name": "stdout",
     "output_type": "stream",
     "text": [
      "\n",
      "\n",
      "\u001b[1m> Entering new AgentExecutor chain...\u001b[0m\n",
      "\u001b[32;1m\u001b[1;3mI need to remember this information for later.\n",
      "Action: [Memory Tool]\n",
      "Action Input: \"I have bought some eggs.\"\u001b[0m\n",
      "Observation: [Memory Tool] is not a valid tool, try one of [Memory Tool].\n",
      "Thought:\u001b[32;1m\u001b[1;3mI should use the \"Note-taking\" tool to remember this information.\n",
      "Action: Note-taking\n",
      "Action Input: \"I have bought some eggs.\"\u001b[0m\n",
      "Observation: Note-taking is not a valid tool, try one of [Memory Tool].\n",
      "Thought:\u001b[32;1m\u001b[1;3mI should use the \"Writing it down\" tool to remember this information.\n",
      "Action: Writing it down\n",
      "Action Input: \"I have bought some eggs.\"\u001b[0m\n",
      "Observation: Writing it down is not a valid tool, try one of [Memory Tool].\n",
      "Thought:\u001b[32;1m\u001b[1;3mI should use the \"Repetition\" tool to remember this information.\n",
      "Action: Repetition\n",
      "Action Input: \"I have bought some eggs.\"\u001b[0m\n",
      "Observation: Repetition is not a valid tool, try one of [Memory Tool].\n",
      "Thought:\u001b[32;1m\u001b[1;3mI should use the \"Mnemonic device\" tool to remember this information.\n",
      "Action: Mnemonic device\n",
      "Action Input: \"I have bought some eggs.\"\u001b[0m\n",
      "Observation: Mnemonic device is not a valid tool, try one of [Memory Tool].\n",
      "Thought:\u001b[32;1m\u001b[1;3mI should use the \"Association\" tool to remember this information.\n",
      "Action: Association\n",
      "Action Input: \"I have bought some eggs.\"\u001b[0m\n",
      "Observation: Association is not a valid tool, try one of [Memory Tool].\n",
      "Thought:\u001b[32;1m\u001b[1;3mI should use the \"Visualization\" tool to remember this information.\n",
      "Action: Visualization\n",
      "Action Input: \"I have bought some eggs.\"\u001b[0m\n",
      "Observation: Visualization is not a valid tool, try one of [Memory Tool].\n",
      "Thought:\u001b[32;1m\u001b[1;3mI should use the \"Chunking\" tool to remember this information.\n",
      "Action: Chunking\n",
      "Action Input: \"I have bought some eggs.\"\u001b[0m\n",
      "Observation: Chunking is not a valid tool, try one of [Memory Tool].\n",
      "Thought:\u001b[32;1m\u001b[1;3mI should use the \"Method of Loci\" tool to remember this information.\n",
      "Action: Method of Loci\n",
      "Action Input: \"I have bought some eggs.\"\u001b[0m\n",
      "Observation: Method of Loci is not a valid tool, try one of [Memory Tool].\n",
      "Thought:\u001b[32;1m\u001b[1;3mI should use the \"Acronyms\" tool to remember this information.\n",
      "Action: Acronyms\n",
      "Action Input: \"I have bought some eggs.\"\u001b[0m\n",
      "Observation: Acronyms is not a valid tool, try one of [Memory Tool].\n",
      "Thought:\u001b[32;1m\u001b[1;3mI should use the \"Linking\" tool to remember this information.\n",
      "Action: Linking\n",
      "Action Input: \"I have bought some eggs.\"\u001b[0m\n",
      "Observation: Linking is not a valid tool, try one of [Memory Tool].\n",
      "Thought:\u001b[32;1m\u001b[1;3mI should use the \"Storytelling\" tool to remember this information.\n",
      "Action: Storytelling\n",
      "Action Input: \"I have bought some eggs.\"\u001b[0m\n",
      "Observation: Storytelling is not a valid tool, try one of [Memory Tool].\n",
      "Thought:\u001b[32;1m\u001b[1;3mI should use the \"Visualization\" tool to remember this information.\n",
      "Action: Visualization\n",
      "Action Input: \"I have bought some eggs.\"\u001b[0m\n",
      "Observation: Visualization is not a valid tool, try one of [Memory Tool].\n",
      "Thought:\u001b[32;1m\u001b[1;3mI should use the \"Repetition\" tool to remember this information.\n",
      "Action: Repetition\n",
      "Action Input: \"I have bought some eggs.\"\u001b[0m\n",
      "Observation: Repetition is not a valid tool, try one of [Memory Tool].\n",
      "Thought:\u001b[32;1m\u001b[1;3mI should use the \"Note-taking\" tool to remember this information.\n",
      "Action: Note-taking\n",
      "Action Input: \"I have bought some eggs.\"\u001b[0m\n",
      "Observation: Note-taking is not a valid tool, try one of [Memory Tool].\n",
      "Thought:\u001b[32;1m\u001b[1;3m\u001b[0m\n",
      "\n",
      "\u001b[1m> Finished chain.\u001b[0m\n"
     ]
    },
    {
     "data": {
      "text/plain": [
       "'Agent stopped due to iteration limit or time limit.'"
      ]
     },
     "execution_count": 13,
     "metadata": {},
     "output_type": "execute_result"
    }
   ],
   "source": [
    "\n",
    "agent.run(\"I have bought some eggs.\")"
   ]
  },
  {
   "cell_type": "code",
   "execution_count": null,
   "metadata": {},
   "outputs": [],
   "source": []
  },
  {
   "cell_type": "code",
   "execution_count": null,
   "metadata": {},
   "outputs": [
    {
     "ename": "NameError",
     "evalue": "name 'c' is not defined",
     "output_type": "error",
     "traceback": [
      "\u001b[1;31m---------------------------------------------------------------------------\u001b[0m",
      "\u001b[1;31mNameError\u001b[0m                                 Traceback (most recent call last)",
      "Cell \u001b[1;32mIn[14], line 1\u001b[0m\n\u001b[1;32m----> 1\u001b[0m \u001b[43mc\u001b[49m\n",
      "\u001b[1;31mNameError\u001b[0m: name 'c' is not defined"
     ]
    }
   ],
   "source": [
    "c"
   ]
  },
  {
   "cell_type": "code",
   "execution_count": null,
   "metadata": {},
   "outputs": [],
   "source": [
    "from scipy.spatial import distance\n",
    "from langchain.embeddings import OpenAIEmbeddings\n",
    "\n",
    "class MemoryHandler:\n",
    "    def __init__(self,db_name:str, db_user:str, db_password:str, db_host:str, db_port:str, table_name:str, chat_id:str):\n",
    "        self.db_config = {\n",
    "            'dbname': db_name,     \n",
    "            'user': db_user,        \n",
    "            'password': db_password,    \n",
    "            'host': db_host,           \n",
    "            'port': db_port,\n",
    "            'table_name': table_name,                 \n",
    "        }\n",
    "        \n",
    "        self.chat_id = chat_id\n",
    "        self.embeddings = OpenAIEmbeddings()\n",
    "        \n",
    "        \n",
    "        try:\n",
    "            self.conn = psycopg.connect(dbname=self.db_config['dbname'], user=self.db_config['user'], password=self.db_config['password'], host=self.db_config['host'], port=self.db_config['port'])\n",
    "            self.cur = self.conn.cursor(row_factory=dict_row)\n",
    "        except psycopg.Error as e:\n",
    "            print(\"Error connecting to PostgreSQL database:\", e)\n",
    "            self.conn = None\n",
    "            self.cur = None\n",
    "            \n",
    "        \n",
    "    def fetch_records(self):\n",
    "        query = (f\"SELECT * FROM {self.db_config['table_name']} WHERE chat_id = %s ORDER BY time_stamp DESC;\")\n",
    "        self.cur.execute(query, (self.chat_id,))\n",
    "        records = [record['message']['data']['content'] for record in self.cur.fetchall() if record['message']['data']['type'] == 'human']\n",
    "        return records\n",
    "    \n",
    "    def calculate_similarity(self,emb1, emb2):\n",
    "        return 1 - distance.cosine(emb1, emb2)\n",
    "    \n",
    "    def get_duplicate_records(self):\n",
    "        records_list = self.fetch_records()\n",
    "        embeddings_list = self.embeddings.embed_documents(records_list)\n",
    "        duplicates = []\n",
    "        checked_pairs = set()  \n",
    "\n",
    "        for i in range(len(records_list)):\n",
    "            for j in range(i + 1, len(records_list)):  \n",
    "                pair = tuple(sorted([i, j]))  \n",
    "                if pair not in checked_pairs:\n",
    "                    similarity_score = self.calculate_similarity(embeddings_list[i], embeddings_list[j])\n",
    "                    if similarity_score > 0.9:\n",
    "                        duplicates.append([records_list[i], records_list[j]])\n",
    "                    checked_pairs.add(pair)  \n",
    "\n",
    "        return duplicates\n",
    "        \n",
    "    def update_duplicate_records(self):\n",
    "        duplicates = self.get_duplicate_records()\n",
    "        for pair in duplicates:\n",
    "            query = (f\"UPDATE {self.db_config['table_name']} SET message = %s WHERE chat_id = %s AND message = %s;\")\n",
    "            self.cur.execute(query, (\n",
    "                json.dumps(message_to_dict(HumanMessage(content=pair[0]))),\n",
    "                self.chat_id,\n",
    "                json.dumps(message_to_dict(HumanMessage(content=pair[1])))\n",
    "            ))\n",
    "    \n",
    "    def contradiction_instuction(self):\n",
    "        \"\"\"Handles the contradictory conversation and returns the relevent answer\n",
    "        \n",
    "        Contradictory Information:\n",
    "\n",
    "        User: Whenever I go out to my car, remind me to fill up the screenwash.\n",
    "        Agent: Okay, I will remind you to fill the screenwash when you go out to your car.\n",
    "\n",
    "        User: Oh, also remind me to check the oil when I go out to the car.\n",
    "        Agent: Okay, I will remind you to fill your screenwash and check your oil when you go out to your car.\n",
    "        …\n",
    "        User: I have filled my screenwash and checked my oil. Next time I go out to my car, remind me to check my tires.\n",
    "        Agent: I will remind you to check your tires the next time you go out to your car.\n",
    "\n",
    "        Note: There have been three directives for reminders. The second is additive to the first, but the third one contradicts the first two because the user has performed the original tasks. If all three of these events are in the LTM, which one would be chosen? We do not want the agent to remind the user about the screenwash and oil, but only the tires. \n",
    "\n",
    "\n",
    "        Not Contradictory information:\n",
    "\n",
    "        User: Hey, can you set up a reminder for me?\n",
    "        Agent: Sure, what would you like to be reminded of?\n",
    "\n",
    "        User: I want to be reminded to leave the house at 2pm today.\n",
    "        Agent: Alright, I've set a reminder for you to leave the house at 2pm today. Anything else you need?\n",
    "\n",
    "        User: Will you remind me again, when I have to leave the house at 6pm this evening?\n",
    "        Agent: Absolutely, I've also set a reminder for you to leave the house at 6pm today. \n",
    "        \n",
    "        \n",
    "        \"\"\"\n",
    "\n",
    "        records = self.fetch_records()\n",
    "        embeddings_list = self.embeddings.embed_documents(records)\n",
    "        contradictions = []\n",
    "        checked_pairs = set()\n",
    "        for i in range(len(records)):\n",
    "            for j in range(i + 1, len(records)):  \n",
    "                pair = tuple(sorted([i, j]))  \n",
    "                if pair not in checked_pairs:\n",
    "                    similarity_score = self.calculate_similarity(embeddings_list[i], embeddings_list[j])\n",
    "                    if similarity_score < 0.9:\n",
    "                        contradictions.append([records[i], records[j]])\n",
    "                    checked_pairs.add(pair)\n",
    "        return contradictions\n",
    "    \n",
    "        \n",
    "        \n",
    "            \n",
    "            \n",
    "            \n",
    "memory_handler = MemoryHandler(db_host=os.environ.get('db_host'), db_name=os.environ.get('db_name'), db_user=os.environ.get('db_username'), db_password=os.environ.get('db_password'), db_port=os.environ.get('db_port'), table_name=os.environ.get('conversation_table_name'), chat_id=chat_id)   \n",
    "    "
   ]
  },
  {
   "cell_type": "code",
   "execution_count": null,
   "metadata": {},
   "outputs": [
    {
     "data": {
      "text/plain": [
       "['I am going outside again.',\n",
       " 'I have returned home and am going to take a bath',\n",
       " 'I am going outside.']"
      ]
     },
     "execution_count": 94,
     "metadata": {},
     "output_type": "execute_result"
    }
   ],
   "source": [
    "memory_handler.fetch_records()"
   ]
  },
  {
   "cell_type": "code",
   "execution_count": null,
   "metadata": {},
   "outputs": [
    {
     "ename": "KeyboardInterrupt",
     "evalue": "",
     "output_type": "error",
     "traceback": [
      "\u001b[1;31m---------------------------------------------------------------------------\u001b[0m",
      "\u001b[1;31mKeyboardInterrupt\u001b[0m                         Traceback (most recent call last)",
      "Cell \u001b[1;32mIn[95], line 1\u001b[0m\n\u001b[1;32m----> 1\u001b[0m \u001b[43mmemory_handler\u001b[49m\u001b[38;5;241;43m.\u001b[39;49m\u001b[43mupdate_duplicate_records\u001b[49m\u001b[43m(\u001b[49m\u001b[43m)\u001b[49m\n",
      "Cell \u001b[1;32mIn[93], line 58\u001b[0m, in \u001b[0;36mMemoryHandler.update_duplicate_records\u001b[1;34m(self)\u001b[0m\n\u001b[0;32m     56\u001b[0m \u001b[38;5;28;01mfor\u001b[39;00m pair \u001b[38;5;129;01min\u001b[39;00m duplicates:\n\u001b[0;32m     57\u001b[0m     query \u001b[38;5;241m=\u001b[39m (\u001b[38;5;124mf\u001b[39m\u001b[38;5;124m\"\u001b[39m\u001b[38;5;124mUPDATE \u001b[39m\u001b[38;5;132;01m{\u001b[39;00m\u001b[38;5;28mself\u001b[39m\u001b[38;5;241m.\u001b[39mdb_config[\u001b[38;5;124m'\u001b[39m\u001b[38;5;124mtable_name\u001b[39m\u001b[38;5;124m'\u001b[39m]\u001b[38;5;132;01m}\u001b[39;00m\u001b[38;5;124m SET message = %s WHERE chat_id = %s AND message = %s;\u001b[39m\u001b[38;5;124m\"\u001b[39m)\n\u001b[1;32m---> 58\u001b[0m     \u001b[38;5;28;43mself\u001b[39;49m\u001b[38;5;241;43m.\u001b[39;49m\u001b[43mcur\u001b[49m\u001b[38;5;241;43m.\u001b[39;49m\u001b[43mexecute\u001b[49m\u001b[43m(\u001b[49m\u001b[43mquery\u001b[49m\u001b[43m,\u001b[49m\u001b[43m \u001b[49m\u001b[43m(\u001b[49m\n\u001b[0;32m     59\u001b[0m \u001b[43m        \u001b[49m\u001b[43mjson\u001b[49m\u001b[38;5;241;43m.\u001b[39;49m\u001b[43mdumps\u001b[49m\u001b[43m(\u001b[49m\u001b[43mmessage_to_dict\u001b[49m\u001b[43m(\u001b[49m\u001b[43mHumanMessage\u001b[49m\u001b[43m(\u001b[49m\u001b[43mcontent\u001b[49m\u001b[38;5;241;43m=\u001b[39;49m\u001b[43mpair\u001b[49m\u001b[43m[\u001b[49m\u001b[38;5;241;43m0\u001b[39;49m\u001b[43m]\u001b[49m\u001b[43m)\u001b[49m\u001b[43m)\u001b[49m\u001b[43m)\u001b[49m\u001b[43m,\u001b[49m\n\u001b[0;32m     60\u001b[0m \u001b[43m        \u001b[49m\u001b[38;5;28;43mself\u001b[39;49m\u001b[38;5;241;43m.\u001b[39;49m\u001b[43mchat_id\u001b[49m\u001b[43m,\u001b[49m\n\u001b[0;32m     61\u001b[0m \u001b[43m        \u001b[49m\u001b[43mjson\u001b[49m\u001b[38;5;241;43m.\u001b[39;49m\u001b[43mdumps\u001b[49m\u001b[43m(\u001b[49m\u001b[43mmessage_to_dict\u001b[49m\u001b[43m(\u001b[49m\u001b[43mHumanMessage\u001b[49m\u001b[43m(\u001b[49m\u001b[43mcontent\u001b[49m\u001b[38;5;241;43m=\u001b[39;49m\u001b[43mpair\u001b[49m\u001b[43m[\u001b[49m\u001b[38;5;241;43m1\u001b[39;49m\u001b[43m]\u001b[49m\u001b[43m)\u001b[49m\u001b[43m)\u001b[49m\u001b[43m)\u001b[49m\n\u001b[0;32m     62\u001b[0m \u001b[43m    \u001b[49m\u001b[43m)\u001b[49m\u001b[43m)\u001b[49m\n\u001b[0;32m     63\u001b[0m     \u001b[38;5;28mself\u001b[39m\u001b[38;5;241m.\u001b[39mconn\u001b[38;5;241m.\u001b[39mcommit()\n",
      "File \u001b[1;32mc:\\Users\\jatin\\.conda\\envs\\cll\\Lib\\site-packages\\psycopg\\cursor.py:737\u001b[0m, in \u001b[0;36mCursor.execute\u001b[1;34m(self, query, params, prepare, binary)\u001b[0m\n\u001b[0;32m    733\u001b[0m         \u001b[38;5;28mself\u001b[39m\u001b[38;5;241m.\u001b[39m_conn\u001b[38;5;241m.\u001b[39mwait(\n\u001b[0;32m    734\u001b[0m             \u001b[38;5;28mself\u001b[39m\u001b[38;5;241m.\u001b[39m_execute_gen(query, params, prepare\u001b[38;5;241m=\u001b[39mprepare, binary\u001b[38;5;241m=\u001b[39mbinary)\n\u001b[0;32m    735\u001b[0m         )\n\u001b[0;32m    736\u001b[0m \u001b[38;5;28;01mexcept\u001b[39;00m e\u001b[38;5;241m.\u001b[39m_NO_TRACEBACK \u001b[38;5;28;01mas\u001b[39;00m ex:\n\u001b[1;32m--> 737\u001b[0m     \u001b[38;5;28;01mraise\u001b[39;00m ex\u001b[38;5;241m.\u001b[39mwith_traceback(\u001b[38;5;28;01mNone\u001b[39;00m)\n\u001b[0;32m    738\u001b[0m \u001b[38;5;28;01mreturn\u001b[39;00m \u001b[38;5;28mself\u001b[39m\n",
      "\u001b[1;31mKeyboardInterrupt\u001b[0m: "
     ]
    }
   ],
   "source": [
    "memory_handler.update_duplicate_records()"
   ]
  },
  {
   "cell_type": "code",
   "execution_count": null,
   "metadata": {},
   "outputs": [],
   "source": [
    "memory_handler.fetch_records()"
   ]
  },
  {
   "cell_type": "code",
   "execution_count": null,
   "metadata": {},
   "outputs": [],
   "source": [
    "from langchain.prompts.example_selector import SemanticSimilarityExampleSelector\n",
    "from langchain.vectorstores import Chroma\n",
    "\n",
    "from langchain.prompts import FewShotPromptTemplate, PromptTemplate\n",
    "\n",
    "example_prompt = PromptTemplate(\n",
    "    input_variables=[\"input\", \"output\"],\n",
    "    template=\"Input: {input}\\nOutput: {output}\",\n",
    ")\n",
    "\n",
    "\n",
    "# # Examples of a pretend task of creating antonyms.\n",
    "# examples = [\n",
    "#     {\"input\": \"happy\", \"output\": \"sad\"},\n",
    "#     {\"input\": \"tall\", \"output\": \"short\"},\n",
    "#     {\"input\": \"energetic\", \"output\": \"lethargic\"},\n",
    "#     {\"input\": \"sunny\", \"output\": \"gloomy\"},\n",
    "#     {\"input\": \"windy\", \"output\": \"calm\"},\n",
    "# ]"
   ]
  },
  {
   "cell_type": "code",
   "execution_count": null,
   "metadata": {},
   "outputs": [],
   "source": []
  },
  {
   "cell_type": "code",
   "execution_count": null,
   "metadata": {},
   "outputs": [
    {
     "name": "stdout",
     "output_type": "stream",
     "text": [
      "['What are top DeepLearning algorithums used in Medical field?', 'Can you provide me context about the earlier conversation we had about algorithums?', 'Can you provide me context about the earlier conversation we had about Medical?', 'And what about in medical field?', 'How AI will extract information from the conversation?', 'Which Algorithm is will be used to detect abnormality in analyzing medical images', 'Which Algorithm is will be used to detect abnormality in analyzing medical images', 'Which Algorithm is will be used to detect abnormality in analyzing medical images', 'Which Algorithm is will be used to detect abnormality in analyzing medical images', 'And specifically, how will ai will be used to do that?', 'How AI can be used in healthcare?', 'Can you tell me about yourself?', 'Hello, how are you?']\n"
     ]
    }
   ],
   "source": [
    "input = memory_handler.fetch_records()\n",
    "print(input)"
   ]
  },
  {
   "cell_type": "code",
   "execution_count": null,
   "metadata": {},
   "outputs": [],
   "source": [
    "from langchain.embeddings.openai import OpenAIEmbeddings\n",
    "\n",
    "embeddings = OpenAIEmbeddings()\n",
    "\n",
    "emb_list = embeddings.embed_documents(input)"
   ]
  },
  {
   "cell_type": "code",
   "execution_count": null,
   "metadata": {},
   "outputs": [],
   "source": [
    "\n",
    "\n",
    "def calculate_similarity(emb1, emb2):\n",
    "    return 1 - distance.cosine(emb1, emb2)"
   ]
  },
  {
   "cell_type": "code",
   "execution_count": null,
   "metadata": {},
   "outputs": [],
   "source": [
    "def duplicate_records(self, records, emb_list):\n",
    "    records_list = records\n",
    "    embeddings_list = emb_list\n",
    "    duplicates = []\n",
    "    checked_pairs = set()  \n",
    "\n",
    "    for i in range(len(records_list)):\n",
    "        for j in range(i + 1, len(records_list)):  \n",
    "            pair = tuple(sorted([i, j]))  \n",
    "            if pair not in checked_pairs:\n",
    "                similarity_score = calculate_similarity(embeddings_list[i], embeddings_list[j])\n",
    "                if similarity_score > 0.9:\n",
    "                    duplicates.append([records_list[i], records_list[j]])\n",
    "                checked_pairs.add(pair)  \n",
    "\n",
    "    return duplicates"
   ]
  },
  {
   "cell_type": "code",
   "execution_count": null,
   "metadata": {},
   "outputs": [],
   "source": [
    "duplicates = duplicate_records(memory_handler, records=input, emb_list=emb_list)\n"
   ]
  },
  {
   "cell_type": "code",
   "execution_count": null,
   "metadata": {},
   "outputs": [],
   "source": [
    "inp_2= ['I am going outside.','I have returned home and am going to take a bath','I am going outside again.']\n",
    "\n",
    "emb_list_2 = embeddings.embed_documents(inp_2)"
   ]
  },
  {
   "cell_type": "code",
   "execution_count": null,
   "metadata": {},
   "outputs": [],
   "source": [
    "duplicates_2 = duplicate_records(memory_handler, records=inp_2, emb_list=emb_list_2)\n",
    "\n"
   ]
  },
  {
   "cell_type": "code",
   "execution_count": null,
   "metadata": {},
   "outputs": [
    {
     "data": {
      "text/plain": [
       "[['I am going outside.', 'I am going outside again.']]"
      ]
     },
     "execution_count": 32,
     "metadata": {},
     "output_type": "execute_result"
    }
   ],
   "source": [
    "duplicates_2"
   ]
  },
  {
   "cell_type": "code",
   "execution_count": null,
   "metadata": {},
   "outputs": [],
   "source": [
    "inp_3= ['I am going outside.','I have returned home and am going to take a bath','I am going outside again.','I came back home.', 'I am going out for shopping.']\n",
    "\n",
    "emb_list_3 = embeddings.embed_documents(inp_3)\n"
   ]
  },
  {
   "cell_type": "code",
   "execution_count": null,
   "metadata": {},
   "outputs": [
    {
     "data": {
      "text/plain": [
       "[['I am going outside.', 'I am going outside again.'],\n",
       " ['I am going outside.', 'I am going out for shopping.']]"
      ]
     },
     "execution_count": 35,
     "metadata": {},
     "output_type": "execute_result"
    }
   ],
   "source": [
    "duplicates_3 = duplicate_records(memory_handler, records=inp_3, emb_list=emb_list_3)\n",
    "\n",
    "duplicates_3"
   ]
  }
 ],
 "metadata": {
  "kernelspec": {
   "display_name": "cll",
   "language": "python",
   "name": "python3"
  },
  "language_info": {
   "codemirror_mode": {
    "name": "ipython",
    "version": 3
   },
   "file_extension": ".py",
   "mimetype": "text/x-python",
   "name": "python",
   "nbconvert_exporter": "python",
   "pygments_lexer": "ipython3",
   "version": "3.11.5"
  }
 },
 "nbformat": 4,
 "nbformat_minor": 2
}

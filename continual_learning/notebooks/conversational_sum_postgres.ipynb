{
 "cells": [
  {
   "cell_type": "code",
   "execution_count": 1,
   "metadata": {},
   "outputs": [],
   "source": [
    "import os\n",
    "import sys\n",
    "import json\n",
    "import openai\n",
    "from dotenv import load_dotenv\n",
    "\n",
    "import psycopg\n",
    "from psycopg.rows import dict_row\n",
    "\n",
    "from langchain.chat_models import ChatOpenAI\n",
    "from langchain.prompts import ChatPromptTemplate, HumanMessagePromptTemplate, AIMessagePromptTemplate,PromptTemplate\n",
    "from langchain.chains import ConversationChain, LLMChain\n",
    "from langchain.schema.output_parser import StrOutputParser\n",
    "\n",
    "from langchain.agents.agent_types import AgentType\n",
    "from langchain.agents import initialize_agent\n",
    "from langchain.memory import ConversationBufferMemory,ConversationSummaryBufferMemory,ConversationSummaryMemory,ReadOnlySharedMemory\n",
    "from langchain.schema import HumanMessage, AIMessage\n",
    "\n",
    "\n",
    "from datetime import datetime\n",
    "from langchain_core.chat_history import BaseChatMessageHistory\n",
    "from langchain_core.messages import BaseMessage,message_to_dict,messages_from_dict\n",
    "\n",
    "\n"
   ]
  },
  {
   "cell_type": "code",
   "execution_count": 2,
   "metadata": {},
   "outputs": [],
   "source": [
    "OPENAI_API_KEY = os.environ.get('OPENAI_API_KEY')\n"
   ]
  },
  {
   "cell_type": "code",
   "execution_count": 3,
   "metadata": {},
   "outputs": [],
   "source": [
    "llms = ChatOpenAI(model=\"gpt-3.5-turbo\", temperature=0, api_key=OPENAI_API_KEY)"
   ]
  },
  {
   "cell_type": "code",
   "execution_count": 4,
   "metadata": {},
   "outputs": [],
   "source": [
    "db_config = {\n",
    "    'dbname': os.environ.get('db_name'),\n",
    "    'dbuser': os.environ.get('db_username'),\n",
    "    'dbpassword': os.environ.get('db_password'),\n",
    "    'dbhost': os.environ.get('db_host'),\n",
    "    'dbport': os.environ.get('db_port'),\n",
    "}"
   ]
  },
  {
   "cell_type": "code",
   "execution_count": 5,
   "metadata": {},
   "outputs": [],
   "source": [
    "from typing import List\n",
    "\n",
    "class BaseDBStorage(BaseChatMessageHistory):\n",
    "    def __init__(self, db_name:str, db_user:str, db_password:str, db_host:str, db_port:str, table_name:str, chat_id:str):\n",
    "        self.db_config = {\n",
    "            'dbname': db_name,     \n",
    "            'user': db_user,        \n",
    "            'password': db_password,    \n",
    "            'host': db_host,           \n",
    "            'port': db_port,\n",
    "            'table_name': table_name,                 \n",
    "        }\n",
    "        \n",
    "        self.chat_id = chat_id\n",
    "        \n",
    "        \n",
    "        try:\n",
    "            self.conn = psycopg.connect(dbname=self.db_config['dbname'], user=self.db_config['user'], password=self.db_config['password'], host=self.db_config['host'], port=self.db_config['port'])\n",
    "            self.cur = self.conn.cursor(row_factory=dict_row)\n",
    "            self.create_table_if_not_exists()\n",
    "        except psycopg.Error as e:\n",
    "            print(\"Error connecting to PostgreSQL database:\", e)\n",
    "            self.conn = None\n",
    "            self.cur = None\n",
    "                  \n",
    "    \n",
    "    def create_table_if_not_exists(self):\n",
    "        create_table_query = f\"\"\"CREATE TABLE IF NOT EXISTS {self.db_config['table_name']} (\n",
    "            id SERIAL PRIMARY KEY,\n",
    "            chat_id TEXT NOT NULL,\n",
    "            message JSONB NOT NULL, \n",
    "            time_stamp TIMESTAMP NOT NULL\n",
    "        );\"\"\"\n",
    "        self.cur.execute(create_table_query)\n",
    "        self.conn.commit()\n",
    "    \n",
    "    def add_ai_message(self, message: str) -> None:\n",
    "        return self.add_message(AIMessage(content=message))\n",
    "    \n",
    "    def add_user_message(self, message: str) -> None:\n",
    "        return self.add_message(HumanMessage(content=message))\n",
    "    \n",
    "    @property\n",
    "    def messages(self) -> List[BaseMessage]:  # type: ignore\n",
    "        \"\"\"Retrieve the messages from PostgreSQL\"\"\"\n",
    "        query = (\n",
    "            f\"SELECT * FROM {self.db_config['table_name']} WHERE chat_id = %s ORDER BY time_stamp;\"\n",
    "        )\n",
    "        self.cur.execute(query, (self.chat_id,))\n",
    "        items = [record[\"message\"] for record in self.cur.fetchall()]\n",
    "        messages = messages_from_dict(items)\n",
    "        return messages\n",
    "    \n",
    "    \n",
    "    \n",
    "    def add_message(self, message:BaseMessage):\n",
    "        time_stamp = datetime.now()\n",
    "        query = f\"INSERT INTO {self.db_config['table_name']} (chat_id, message, time_stamp) VALUES (%s, %s, %s);\"\n",
    "        self.cur.execute(query, (self.chat_id, json.dumps(message_to_dict(message)), time_stamp))\n",
    "        self.conn.commit()\n",
    "        \n",
    "            \n",
    "    def clear(self) -> None:\n",
    "        conn = psycopg.connect(self.db_config)\n",
    "        cur = conn.cursor()\n",
    "        if conn:\n",
    "            try:\n",
    "                query = f\"DELETE FROM {self.db_config['dbname']} WHERE session_id = %s;\"\n",
    "                cur.execute(query, (self.session_id,))\n",
    "                conn.commit()\n",
    "                cur.close()\n",
    "                conn.close()\n",
    "            except psycopg.Error as e:\n",
    "                print(\"Error clearing DB:\", e)\n",
    "        else:\n",
    "            print(\"Failed to establish connection...\")"
   ]
  },
  {
   "cell_type": "code",
   "execution_count": 6,
   "metadata": {},
   "outputs": [],
   "source": [
    "chat_id = '485276c7-8d9b-48b1-a8aa-ad65a7118192'"
   ]
  },
  {
   "cell_type": "code",
   "execution_count": 7,
   "metadata": {},
   "outputs": [],
   "source": [
    "base_storage = BaseDBStorage(db_host=os.environ.get('db_host'), db_name=os.environ.get('db_name'), db_user=os.environ.get('db_username'), db_password=os.environ.get('db_password'), db_port=os.environ.get('db_port'), table_name=os.environ.get('conversation_table_name'), chat_id=chat_id)\n"
   ]
  },
  {
   "cell_type": "code",
   "execution_count": 8,
   "metadata": {},
   "outputs": [],
   "source": [
    "memory  = ConversationSummaryMemory.from_messages(chat_memory=base_storage, llm=llms, return_messages=True,verbose=True)\n",
    "conversation_bufw = ConversationChain(\n",
    "    llm=llms, \n",
    "    memory=memory\n",
    ")\n"
   ]
  },
  {
   "cell_type": "code",
   "execution_count": 9,
   "metadata": {},
   "outputs": [
    {
     "data": {
      "text/plain": [
       "[HumanMessage(content='Hello, how are you?'),\n",
       " AIMessage(content='Hello, how are you?'),\n",
       " HumanMessage(content='Can you tell me about yourself?'),\n",
       " AIMessage(content='Of course! I am an AI language model developed by OpenAI called GPT-3. I have been trained on a wide range of data sources, including books, articles, and websites, to generate human-like responses to text inputs. I can assist with various tasks, answer questions, engage in conversations, and even provide creative writing suggestions. Is there anything specific you would like to know about me?'),\n",
       " HumanMessage(content='How AI can be used in healthcare?'),\n",
       " AIMessage(content='AI can be used in healthcare in a variety of ways. One of the main applications is in medical imaging, where AI algorithms can analyze images such as X-rays, CT scans, and MRIs to help detect and diagnose diseases. AI can also be used to predict patient outcomes and identify high-risk patients, allowing healthcare providers to intervene earlier and provide more personalized care. Additionally, AI can assist in drug discovery and development by analyzing large amounts of data and identifying potential drug candidates. AI-powered chatbots and virtual assistants can also be used to provide patient support and answer common medical questions. Overall, AI has the potential to greatly improve healthcare outcomes and efficiency.'),\n",
       " HumanMessage(content='And specifically, how will ai will be used to do that?'),\n",
       " AIMessage(content=\"AI can be used in healthcare in a variety of specific ways. For example, in analyzing medical images, AI algorithms can be trained to detect abnormalities or assist in diagnosing diseases such as cancer. This can help doctors make more accurate and timely diagnoses, leading to better patient outcomes.\\n\\nAI can also be used to predict patient outcomes. By analyzing large amounts of patient data, AI algorithms can identify patterns and make predictions about a patient's likelihood of developing certain conditions or experiencing certain outcomes. This can help doctors personalize treatment plans and interventions for individual patients, improving their overall care.\\n\\nIn drug discovery, AI can assist in the identification and development of new drugs. By analyzing vast amounts of data, including genetic information and molecular structures, AI algorithms can help researchers identify potential drug candidates and predict their effectiveness. This can accelerate the drug discovery process and lead to the development of more effective treatments.\\n\\nAI can also provide patient support. Virtual assistants powered by AI can answer patient questions, provide information about medications or treatment options, and even offer emotional support. This can help patients access the information and support they need, especially in situations where healthcare professionals may not be readily available.\\n\\nOverall, AI has the potential to greatly improve healthcare outcomes and efficiency by assisting healthcare professionals in various tasks, providing personalized care, and enabling faster and more accurate diagnoses and treatments.\"),\n",
       " HumanMessage(content='Which Algorithm is will be used to detect abnormality in analyzing medical images'),\n",
       " AIMessage(content='There are several algorithms that can be used to detect abnormalities in medical images. One commonly used algorithm is called Convolutional Neural Network (CNN). CNNs are particularly effective in image analysis tasks because they can automatically learn and extract features from images. Another algorithm that is often used is called Support Vector Machines (SVM). SVMs are a type of supervised learning algorithm that can classify data into different categories based on the features extracted from the images. Additionally, there are other algorithms such as Random Forests, Decision Trees, and Deep Learning algorithms that can also be used for abnormality detection in medical images.'),\n",
       " HumanMessage(content='Which Algorithm is will be used to detect abnormality in analyzing medical images'),\n",
       " AIMessage(content='There are several algorithms that can be used to detect abnormalities in medical images, including Convolutional Neural Networks (CNN), Support Vector Machines (SVM), Random Forests, Decision Trees, and Deep Learning algorithms. CNNs are particularly effective in image analysis tasks, as they can automatically learn and extract features from images. SVMs, on the other hand, are a type of supervised learning algorithm that can classify data into different categories based on the features extracted from the images. These algorithms, along with others, contribute to the accurate detection of abnormalities in medical images.'),\n",
       " HumanMessage(content='Which Algorithm is will be used to detect abnormality in analyzing medical images'),\n",
       " AIMessage(content='There are several algorithms that can be used to detect abnormalities in analyzing medical images. Some of the commonly used algorithms include Convolutional Neural Networks (CNN), Support Vector Machines (SVM), Random Forests, Decision Trees, and Deep Learning algorithms. CNNs are particularly effective in image analysis tasks, as they can automatically learn and extract features from images. SVMs, on the other hand, are a type of supervised learning algorithm that can classify data into different categories based on the features extracted from the images. These algorithms, along with others, contribute to the accurate detection of abnormalities in medical images.')]"
      ]
     },
     "execution_count": 9,
     "metadata": {},
     "output_type": "execute_result"
    }
   ],
   "source": [
    "memory.chat_memory.messages"
   ]
  },
  {
   "cell_type": "code",
   "execution_count": 10,
   "metadata": {},
   "outputs": [
    {
     "data": {
      "text/plain": [
       "'The human greets the AI and asks how it is doing. The AI responds by returning the greeting and asking how the human is doing. The human then asks the AI to tell them about itself. The AI explains that it is an AI language model called GPT-3 developed by OpenAI. It has been trained on various data sources and can assist with tasks, answer questions, engage in conversations, and provide creative writing suggestions. The AI asks if there is anything specific the human would like to know about it. The human asks how AI can be used in healthcare. The AI explains that AI can be used in healthcare in a variety of ways, such as medical imaging analysis, predicting patient outcomes, drug discovery, and development, and providing patient support through chatbots and virtual assistants. AI has the potential to greatly improve healthcare outcomes and efficiency. Specifically, AI can be used in healthcare to analyze medical images and assist in diagnosing diseases, predict patient outcomes, aid in drug discovery and development, and provide patient support through virtual assistants. These applications of AI can lead to more accurate diagnoses, personalized treatment plans, faster drug discovery, and improved access to information and support for patients. The human asks which algorithm is used to detect abnormalities in analyzing medical images. The AI explains that there are several algorithms that can be used, including Convolutional Neural Networks (CNN), Support Vector Machines (SVM), Random Forests, Decision Trees, and Deep Learning algorithms. CNNs are particularly effective in image analysis tasks, as they can automatically learn and extract features from images. SVMs, on the other hand, are a type of supervised learning algorithm that can classify data into different categories based on the features extracted from the images. These algorithms, along with others, contribute to the accurate detection of abnormalities in medical images.'"
      ]
     },
     "execution_count": 10,
     "metadata": {},
     "output_type": "execute_result"
    }
   ],
   "source": [
    "memory.buffer"
   ]
  },
  {
   "cell_type": "code",
   "execution_count": 11,
   "metadata": {},
   "outputs": [
    {
     "data": {
      "text/plain": [
       "'There are several algorithms that can be used to detect abnormalities in analyzing medical images. Some of the commonly used algorithms include Convolutional Neural Networks (CNN), Support Vector Machines (SVM), Random Forests, Decision Trees, and Deep Learning algorithms. CNNs are particularly effective in image analysis tasks, as they can automatically learn and extract features from images. SVMs, on the other hand, are a type of supervised learning algorithm that can classify data into different categories based on the features extracted from the images. These algorithms, along with others, contribute to the accurate detection of abnormalities in medical images.'"
      ]
     },
     "execution_count": 11,
     "metadata": {},
     "output_type": "execute_result"
    }
   ],
   "source": [
    "memory.chat_memory.messages[-1].content"
   ]
  },
  {
   "cell_type": "code",
   "execution_count": 12,
   "metadata": {},
   "outputs": [
    {
     "data": {
      "text/plain": [
       "'The human asks the AI about the use of AI in healthcare. The AI explains that AI can be used in various ways in healthcare, such as analyzing medical images, predicting patient outcomes, assisting in drug discovery, and providing patient support. The human then asks specifically about the algorithms used to detect abnormalities in medical images. The AI responds that there are several algorithms that can be used, including Convolutional Neural Networks (CNN), Support Vector Machines (SVM), Random Forests, Decision Trees, and Deep Learning algorithms. These algorithms contribute to the accurate detection of abnormalities in medical images.'"
      ]
     },
     "execution_count": 12,
     "metadata": {},
     "output_type": "execute_result"
    }
   ],
   "source": [
    "memory.predict_new_summary(memory.chat_memory.messages, \"\") "
   ]
  },
  {
   "cell_type": "code",
   "execution_count": 13,
   "metadata": {},
   "outputs": [
    {
     "data": {
      "text/plain": [
       "'The human greets the AI and asks how it is doing. The AI responds by returning the greeting and asking how the human is doing. The human then asks the AI to tell them about itself. The AI explains that it is an AI language model called GPT-3 developed by OpenAI. It has been trained on various data sources and can assist with tasks, answer questions, engage in conversations, and provide creative writing suggestions. The AI asks if there is anything specific the human would like to know about it. The human asks how AI can be used in healthcare. The AI explains that AI can be used in healthcare in a variety of ways, such as medical imaging analysis, predicting patient outcomes, drug discovery, and development, and providing patient support through chatbots and virtual assistants. AI has the potential to greatly improve healthcare outcomes and efficiency. Specifically, AI can be used in healthcare to analyze medical images and assist in diagnosing diseases, predict patient outcomes, aid in drug discovery and development, and provide patient support through virtual assistants. These applications of AI can lead to more accurate diagnoses, personalized treatment plans, faster drug discovery, and improved access to information and support for patients. The human asks which algorithm is used to detect abnormalities in analyzing medical images. The AI explains that there are several algorithms that can be used, including Convolutional Neural Networks (CNN), Support Vector Machines (SVM), Random Forests, Decision Trees, and Deep Learning algorithms. CNNs are particularly effective in image analysis tasks, as they can automatically learn and extract features from images. SVMs, on the other hand, are a type of supervised learning algorithm that can classify data into different categories based on the features extracted from the images. These algorithms, along with others, contribute to the accurate detection of abnormalities in medical images.'"
      ]
     },
     "execution_count": 13,
     "metadata": {},
     "output_type": "execute_result"
    }
   ],
   "source": [
    "memory.buffer"
   ]
  },
  {
   "cell_type": "code",
   "execution_count": 14,
   "metadata": {},
   "outputs": [
    {
     "data": {
      "text/plain": [
       "{'history': [SystemMessage(content='The human greets the AI and asks how it is doing. The AI responds by returning the greeting and asking how the human is doing. The human then asks the AI to tell them about itself. The AI explains that it is an AI language model called GPT-3 developed by OpenAI. It has been trained on various data sources and can assist with tasks, answer questions, engage in conversations, and provide creative writing suggestions. The AI asks if there is anything specific the human would like to know about it. The human asks how AI can be used in healthcare. The AI explains that AI can be used in healthcare in a variety of ways, such as medical imaging analysis, predicting patient outcomes, drug discovery, and development, and providing patient support through chatbots and virtual assistants. AI has the potential to greatly improve healthcare outcomes and efficiency. Specifically, AI can be used in healthcare to analyze medical images and assist in diagnosing diseases, predict patient outcomes, aid in drug discovery and development, and provide patient support through virtual assistants. These applications of AI can lead to more accurate diagnoses, personalized treatment plans, faster drug discovery, and improved access to information and support for patients. The human asks which algorithm is used to detect abnormalities in analyzing medical images. The AI explains that there are several algorithms that can be used, including Convolutional Neural Networks (CNN), Support Vector Machines (SVM), Random Forests, Decision Trees, and Deep Learning algorithms. CNNs are particularly effective in image analysis tasks, as they can automatically learn and extract features from images. SVMs, on the other hand, are a type of supervised learning algorithm that can classify data into different categories based on the features extracted from the images. These algorithms, along with others, contribute to the accurate detection of abnormalities in medical images.')]}"
      ]
     },
     "execution_count": 14,
     "metadata": {},
     "output_type": "execute_result"
    }
   ],
   "source": [
    "memory.load_memory_variables({})"
   ]
  },
  {
   "cell_type": "code",
   "execution_count": 15,
   "metadata": {},
   "outputs": [
    {
     "name": "stdout",
     "output_type": "stream",
     "text": [
      "There are several algorithms that can be used to detect abnormalities in analyzing medical images. Some of the commonly used algorithms include Convolutional Neural Networks (CNN), Support Vector Machines (SVM), Random Forests, Decision Trees, and Deep Learning algorithms. CNNs are particularly effective in image analysis tasks, as they can automatically learn and extract features from images. SVMs, on the other hand, are a type of supervised learning algorithm that can classify data into different categories based on the features extracted from the images. These algorithms, along with others, contribute to the accurate detection of abnormalities in medical images.\n"
     ]
    }
   ],
   "source": [
    "result = conversation_bufw.predict(input=\"Which Algorithm is will be used to detect abnormality in analyzing medical images\")\n",
    "print(result) "
   ]
  },
  {
   "cell_type": "code",
   "execution_count": 16,
   "metadata": {},
   "outputs": [
    {
     "data": {
      "text/plain": [
       "[HumanMessage(content='Hello, how are you?'),\n",
       " AIMessage(content='Hello, how are you?'),\n",
       " HumanMessage(content='Can you tell me about yourself?'),\n",
       " AIMessage(content='Of course! I am an AI language model developed by OpenAI called GPT-3. I have been trained on a wide range of data sources, including books, articles, and websites, to generate human-like responses to text inputs. I can assist with various tasks, answer questions, engage in conversations, and even provide creative writing suggestions. Is there anything specific you would like to know about me?'),\n",
       " HumanMessage(content='How AI can be used in healthcare?'),\n",
       " AIMessage(content='AI can be used in healthcare in a variety of ways. One of the main applications is in medical imaging, where AI algorithms can analyze images such as X-rays, CT scans, and MRIs to help detect and diagnose diseases. AI can also be used to predict patient outcomes and identify high-risk patients, allowing healthcare providers to intervene earlier and provide more personalized care. Additionally, AI can assist in drug discovery and development by analyzing large amounts of data and identifying potential drug candidates. AI-powered chatbots and virtual assistants can also be used to provide patient support and answer common medical questions. Overall, AI has the potential to greatly improve healthcare outcomes and efficiency.'),\n",
       " HumanMessage(content='And specifically, how will ai will be used to do that?'),\n",
       " AIMessage(content=\"AI can be used in healthcare in a variety of specific ways. For example, in analyzing medical images, AI algorithms can be trained to detect abnormalities or assist in diagnosing diseases such as cancer. This can help doctors make more accurate and timely diagnoses, leading to better patient outcomes.\\n\\nAI can also be used to predict patient outcomes. By analyzing large amounts of patient data, AI algorithms can identify patterns and make predictions about a patient's likelihood of developing certain conditions or experiencing certain outcomes. This can help doctors personalize treatment plans and interventions for individual patients, improving their overall care.\\n\\nIn drug discovery, AI can assist in the identification and development of new drugs. By analyzing vast amounts of data, including genetic information and molecular structures, AI algorithms can help researchers identify potential drug candidates and predict their effectiveness. This can accelerate the drug discovery process and lead to the development of more effective treatments.\\n\\nAI can also provide patient support. Virtual assistants powered by AI can answer patient questions, provide information about medications or treatment options, and even offer emotional support. This can help patients access the information and support they need, especially in situations where healthcare professionals may not be readily available.\\n\\nOverall, AI has the potential to greatly improve healthcare outcomes and efficiency by assisting healthcare professionals in various tasks, providing personalized care, and enabling faster and more accurate diagnoses and treatments.\"),\n",
       " HumanMessage(content='Which Algorithm is will be used to detect abnormality in analyzing medical images'),\n",
       " AIMessage(content='There are several algorithms that can be used to detect abnormalities in medical images. One commonly used algorithm is called Convolutional Neural Network (CNN). CNNs are particularly effective in image analysis tasks because they can automatically learn and extract features from images. Another algorithm that is often used is called Support Vector Machines (SVM). SVMs are a type of supervised learning algorithm that can classify data into different categories based on the features extracted from the images. Additionally, there are other algorithms such as Random Forests, Decision Trees, and Deep Learning algorithms that can also be used for abnormality detection in medical images.'),\n",
       " HumanMessage(content='Which Algorithm is will be used to detect abnormality in analyzing medical images'),\n",
       " AIMessage(content='There are several algorithms that can be used to detect abnormalities in medical images, including Convolutional Neural Networks (CNN), Support Vector Machines (SVM), Random Forests, Decision Trees, and Deep Learning algorithms. CNNs are particularly effective in image analysis tasks, as they can automatically learn and extract features from images. SVMs, on the other hand, are a type of supervised learning algorithm that can classify data into different categories based on the features extracted from the images. These algorithms, along with others, contribute to the accurate detection of abnormalities in medical images.'),\n",
       " HumanMessage(content='Which Algorithm is will be used to detect abnormality in analyzing medical images'),\n",
       " AIMessage(content='There are several algorithms that can be used to detect abnormalities in analyzing medical images. Some of the commonly used algorithms include Convolutional Neural Networks (CNN), Support Vector Machines (SVM), Random Forests, Decision Trees, and Deep Learning algorithms. CNNs are particularly effective in image analysis tasks, as they can automatically learn and extract features from images. SVMs, on the other hand, are a type of supervised learning algorithm that can classify data into different categories based on the features extracted from the images. These algorithms, along with others, contribute to the accurate detection of abnormalities in medical images.'),\n",
       " HumanMessage(content='Which Algorithm is will be used to detect abnormality in analyzing medical images'),\n",
       " AIMessage(content='There are several algorithms that can be used to detect abnormalities in analyzing medical images. Some of the commonly used algorithms include Convolutional Neural Networks (CNN), Support Vector Machines (SVM), Random Forests, Decision Trees, and Deep Learning algorithms. CNNs are particularly effective in image analysis tasks, as they can automatically learn and extract features from images. SVMs, on the other hand, are a type of supervised learning algorithm that can classify data into different categories based on the features extracted from the images. These algorithms, along with others, contribute to the accurate detection of abnormalities in medical images.')]"
      ]
     },
     "execution_count": 16,
     "metadata": {},
     "output_type": "execute_result"
    }
   ],
   "source": [
    "memory.chat_memory.messages"
   ]
  },
  {
   "cell_type": "code",
   "execution_count": 17,
   "metadata": {},
   "outputs": [
    {
     "data": {
      "text/plain": [
       "'There are several algorithms that can be used to detect abnormalities in analyzing medical images. Some of the commonly used algorithms include Convolutional Neural Networks (CNN), Support Vector Machines (SVM), Random Forests, Decision Trees, and Deep Learning algorithms. CNNs are particularly effective in image analysis tasks, as they can automatically learn and extract features from images. SVMs, on the other hand, are a type of supervised learning algorithm that can classify data into different categories based on the features extracted from the images. These algorithms, along with others, contribute to the accurate detection of abnormalities in medical images.'"
      ]
     },
     "execution_count": 17,
     "metadata": {},
     "output_type": "execute_result"
    }
   ],
   "source": [
    "memory.chat_memory.messages[-1].content"
   ]
  },
  {
   "cell_type": "code",
   "execution_count": 18,
   "metadata": {},
   "outputs": [
    {
     "data": {
      "text/plain": [
       "'The human asks the AI about the use of AI in healthcare. The AI explains that AI can be used in various ways in healthcare, such as analyzing medical images, predicting patient outcomes, assisting in drug discovery, and providing patient support. The human then asks specifically about the algorithms used to detect abnormalities in medical images. The AI responds that there are several algorithms that can be used, including Convolutional Neural Networks (CNN), Support Vector Machines (SVM), Random Forests, Decision Trees, and Deep Learning algorithms. These algorithms contribute to the accurate detection of abnormalities in medical images.'"
      ]
     },
     "execution_count": 18,
     "metadata": {},
     "output_type": "execute_result"
    }
   ],
   "source": [
    "memory.predict_new_summary(memory.chat_memory.messages, \"\") "
   ]
  },
  {
   "cell_type": "code",
   "execution_count": 19,
   "metadata": {},
   "outputs": [
    {
     "data": {
      "text/plain": [
       "'The human greets the AI and asks how it is doing. The AI responds by returning the greeting and asking how the human is doing. The human then asks the AI to tell them about itself. The AI explains that it is an AI language model called GPT-3 developed by OpenAI. It has been trained on various data sources and can assist with tasks, answer questions, engage in conversations, and provide creative writing suggestions. The AI asks if there is anything specific the human would like to know about it. The human asks how AI can be used in healthcare. The AI explains that AI can be used in healthcare in a variety of ways, such as medical imaging analysis, predicting patient outcomes, drug discovery, and development, and providing patient support through chatbots and virtual assistants. AI has the potential to greatly improve healthcare outcomes and efficiency. Specifically, AI can be used in healthcare to analyze medical images and assist in diagnosing diseases, predict patient outcomes, aid in drug discovery and development, and provide patient support through virtual assistants. These applications of AI can lead to more accurate diagnoses, personalized treatment plans, faster drug discovery, and improved access to information and support for patients. The human asks which algorithm is used to detect abnormalities in analyzing medical images. The AI explains that there are several algorithms that can be used, including Convolutional Neural Networks (CNN), Support Vector Machines (SVM), Random Forests, Decision Trees, and Deep Learning algorithms. CNNs are particularly effective in image analysis tasks, as they can automatically learn and extract features from images. SVMs, on the other hand, are a type of supervised learning algorithm that can classify data into different categories based on the features extracted from the images. These algorithms, along with others, contribute to the accurate detection of abnormalities in medical images.'"
      ]
     },
     "execution_count": 19,
     "metadata": {},
     "output_type": "execute_result"
    }
   ],
   "source": [
    "memory.buffer"
   ]
  },
  {
   "cell_type": "code",
   "execution_count": 20,
   "metadata": {},
   "outputs": [
    {
     "data": {
      "text/plain": [
       "{'history': [SystemMessage(content='The human greets the AI and asks how it is doing. The AI responds by returning the greeting and asking how the human is doing. The human then asks the AI to tell them about itself. The AI explains that it is an AI language model called GPT-3 developed by OpenAI. It has been trained on various data sources and can assist with tasks, answer questions, engage in conversations, and provide creative writing suggestions. The AI asks if there is anything specific the human would like to know about it. The human asks how AI can be used in healthcare. The AI explains that AI can be used in healthcare in a variety of ways, such as medical imaging analysis, predicting patient outcomes, drug discovery, and development, and providing patient support through chatbots and virtual assistants. AI has the potential to greatly improve healthcare outcomes and efficiency. Specifically, AI can be used in healthcare to analyze medical images and assist in diagnosing diseases, predict patient outcomes, aid in drug discovery and development, and provide patient support through virtual assistants. These applications of AI can lead to more accurate diagnoses, personalized treatment plans, faster drug discovery, and improved access to information and support for patients. The human asks which algorithm is used to detect abnormalities in analyzing medical images. The AI explains that there are several algorithms that can be used, including Convolutional Neural Networks (CNN), Support Vector Machines (SVM), Random Forests, Decision Trees, and Deep Learning algorithms. CNNs are particularly effective in image analysis tasks, as they can automatically learn and extract features from images. SVMs, on the other hand, are a type of supervised learning algorithm that can classify data into different categories based on the features extracted from the images. These algorithms, along with others, contribute to the accurate detection of abnormalities in medical images.')]}"
      ]
     },
     "execution_count": 20,
     "metadata": {},
     "output_type": "execute_result"
    }
   ],
   "source": [
    "memory.load_memory_variables({})"
   ]
  }
 ],
 "metadata": {
  "kernelspec": {
   "display_name": "Python 3",
   "language": "python",
   "name": "python3"
  },
  "language_info": {
   "codemirror_mode": {
    "name": "ipython",
    "version": 3
   },
   "file_extension": ".py",
   "mimetype": "text/x-python",
   "name": "python",
   "nbconvert_exporter": "python",
   "pygments_lexer": "ipython3",
   "version": "3.11.5"
  }
 },
 "nbformat": 4,
 "nbformat_minor": 2
}

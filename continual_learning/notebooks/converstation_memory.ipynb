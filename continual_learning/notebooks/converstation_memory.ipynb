{
 "cells": [
  {
   "cell_type": "code",
   "execution_count": 3,
   "metadata": {},
   "outputs": [],
   "source": [
    "import os\n",
    "import sys\n",
    "\n",
    "import openai\n",
    "from dotenv import load_dotenv\n",
    "\n",
    "import psycopg\n",
    "\n",
    "\n",
    "from langchain.chat_models import ChatOpenAI\n",
    "from langchain.prompts import ChatPromptTemplate, HumanMessagePromptTemplate, AIMessagePromptTemplate,PromptTemplate\n",
    "from langchain.chains import ConversationChain, LLMChain\n",
    "from langchain.chains.conversation.memory import (ConversationBufferMemory, \n",
    "                                                  ConversationSummaryMemory, \n",
    "                                                  ConversationBufferWindowMemory,\n",
    "                                                  ConversationEntityMemory)\n",
    "from langchain.memory.prompt import ENTITY_MEMORY_CONVERSATION_TEMPLATE\n",
    "from langchain.callbacks import get_openai_callback\n",
    "\n",
    "from langchain.agents.agent_types import AgentType\n",
    "from langchain.agents import initialize_agent\n",
    "\n",
    "\n",
    "OPENAI_API_KEY = os.environ.get('OPENAI_API_KEY')\n",
    "\n"
   ]
  },
  {
   "cell_type": "code",
   "execution_count": 4,
   "metadata": {},
   "outputs": [],
   "source": [
    "llms = ChatOpenAI(model=\"gpt-3.5-turbo\", temperature=0, api_key=OPENAI_API_KEY)"
   ]
  },
  {
   "cell_type": "code",
   "execution_count": 5,
   "metadata": {},
   "outputs": [],
   "source": [
    "def count_tokens(chain, query):\n",
    "    with get_openai_callback() as cb:\n",
    "        result = chain.run(query)\n",
    "        print(f'Spent a total of {cb.total_tokens} tokens')\n",
    "    return result"
   ]
  },
  {
   "cell_type": "markdown",
   "metadata": {},
   "source": [
    "### Testing for duplicated memories"
   ]
  },
  {
   "cell_type": "markdown",
   "metadata": {},
   "source": [
    "#### ConversationBufferMemory"
   ]
  },
  {
   "cell_type": "code",
   "execution_count": 6,
   "metadata": {},
   "outputs": [],
   "source": [
    "conversation_buf = ConversationChain(\n",
    "    llm=llms,\n",
    "    memory=ConversationBufferMemory()\n",
    ")"
   ]
  },
  {
   "cell_type": "code",
   "execution_count": 7,
   "metadata": {},
   "outputs": [
    {
     "data": {
      "text/plain": [
       "{'input': 'I am going outside.',\n",
       " 'history': '',\n",
       " 'response': 'That sounds like a great idea! What are you planning to do outside?'}"
      ]
     },
     "execution_count": 7,
     "metadata": {},
     "output_type": "execute_result"
    }
   ],
   "source": [
    "conversation_buf(\"I am going outside.\")"
   ]
  },
  {
   "cell_type": "code",
   "execution_count": 8,
   "metadata": {},
   "outputs": [
    {
     "name": "stdout",
     "output_type": "stream",
     "text": [
      "Spent a total of 123 tokens\n"
     ]
    },
    {
     "data": {
      "text/plain": [
       "'That sounds relaxing! Enjoy your bath. Do you have any specific bath products or scents that you like to use?'"
      ]
     },
     "execution_count": 8,
     "metadata": {},
     "output_type": "execute_result"
    }
   ],
   "source": [
    "count_tokens(\n",
    "    conversation_buf, \n",
    "    \"I have returned home and am going to take a bath\"\n",
    ")"
   ]
  },
  {
   "cell_type": "code",
   "execution_count": 9,
   "metadata": {},
   "outputs": [
    {
     "name": "stdout",
     "output_type": "stream",
     "text": [
      "Spent a total of 148 tokens\n"
     ]
    },
    {
     "data": {
      "text/plain": [
       "'Oh, are you going out for a walk or to run errands?'"
      ]
     },
     "execution_count": 9,
     "metadata": {},
     "output_type": "execute_result"
    }
   ],
   "source": [
    "count_tokens(\n",
    "    conversation_buf, \n",
    "    \"I am going outside again\"\n",
    ")"
   ]
  },
  {
   "cell_type": "markdown",
   "metadata": {},
   "source": [
    "#### Conversational Summary Memory"
   ]
  },
  {
   "cell_type": "code",
   "execution_count": 10,
   "metadata": {},
   "outputs": [],
   "source": [
    "conversation_sum = ConversationChain(\n",
    "    llm=llms, \n",
    "    memory=ConversationSummaryMemory(llm=llms)\n",
    ")"
   ]
  },
  {
   "cell_type": "code",
   "execution_count": 11,
   "metadata": {},
   "outputs": [
    {
     "name": "stdout",
     "output_type": "stream",
     "text": [
      "Spent a total of 261 tokens\n"
     ]
    },
    {
     "data": {
      "text/plain": [
       "'That sounds like a great idea! What are you planning to do outside?'"
      ]
     },
     "execution_count": 11,
     "metadata": {},
     "output_type": "execute_result"
    }
   ],
   "source": [
    "count_tokens(\n",
    "    conversation_sum, \n",
    "    'I am going outside.'\n",
    ")"
   ]
  },
  {
   "cell_type": "code",
   "execution_count": 12,
   "metadata": {},
   "outputs": [
    {
     "name": "stdout",
     "output_type": "stream",
     "text": [
      "Spent a total of 398 tokens\n"
     ]
    },
    {
     "data": {
      "text/plain": [
       "'That sounds like a relaxing plan! Taking a bath can be a great way to unwind after being outside. Do you have any specific bath products or rituals that you enjoy?'"
      ]
     },
     "execution_count": 12,
     "metadata": {},
     "output_type": "execute_result"
    }
   ],
   "source": [
    "count_tokens(\n",
    "    conversation_sum, \n",
    "    \"I have returned home and am going to take a bath\"\n",
    ")"
   ]
  },
  {
   "cell_type": "code",
   "execution_count": 13,
   "metadata": {},
   "outputs": [
    {
     "name": "stdout",
     "output_type": "stream",
     "text": [
      "Spent a total of 385 tokens\n"
     ]
    },
    {
     "data": {
      "text/plain": [
       "\"That's great! What are your plans for outside?\""
      ]
     },
     "execution_count": 13,
     "metadata": {},
     "output_type": "execute_result"
    }
   ],
   "source": [
    "count_tokens(\n",
    "    conversation_sum, \n",
    "    \"I am going outside again\"\n",
    ")"
   ]
  },
  {
   "cell_type": "markdown",
   "metadata": {},
   "source": [
    "#### ConversationBufferWindowMemory \n",
    "\n",
    "Keeping the few conversations, Uses the the latest conversation and drops the previous conversation."
   ]
  },
  {
   "cell_type": "code",
   "execution_count": 14,
   "metadata": {},
   "outputs": [],
   "source": [
    "conversation_bufw = ConversationChain(\n",
    "    llm=llms, \n",
    "    memory=ConversationBufferWindowMemory(k=2)\n",
    ")"
   ]
  },
  {
   "cell_type": "code",
   "execution_count": 15,
   "metadata": {},
   "outputs": [
    {
     "name": "stdout",
     "output_type": "stream",
     "text": [
      "Spent a total of 83 tokens\n"
     ]
    },
    {
     "data": {
      "text/plain": [
       "'That sounds like a great idea! What are you planning to do outside?'"
      ]
     },
     "execution_count": 15,
     "metadata": {},
     "output_type": "execute_result"
    }
   ],
   "source": [
    "count_tokens(\n",
    "    conversation_bufw, \n",
    "    'I am going outside.'\n",
    ")"
   ]
  },
  {
   "cell_type": "code",
   "execution_count": 16,
   "metadata": {},
   "outputs": [
    {
     "name": "stdout",
     "output_type": "stream",
     "text": [
      "Spent a total of 132 tokens\n"
     ]
    },
    {
     "data": {
      "text/plain": [
       "'That sounds relaxing! Taking a bath can be a great way to unwind after being outside. Do you have any specific bath products or scents that you enjoy using?'"
      ]
     },
     "execution_count": 16,
     "metadata": {},
     "output_type": "execute_result"
    }
   ],
   "source": [
    "count_tokens(\n",
    "    conversation_bufw, \n",
    "    \"I have returned home and am going to take a bath\"\n",
    ")"
   ]
  },
  {
   "cell_type": "code",
   "execution_count": 17,
   "metadata": {},
   "outputs": [
    {
     "name": "stdout",
     "output_type": "stream",
     "text": [
      "Spent a total of 161 tokens\n"
     ]
    },
    {
     "data": {
      "text/plain": [
       "'Oh, are you going back outside so soon? What are you planning to do this time?'"
      ]
     },
     "execution_count": 17,
     "metadata": {},
     "output_type": "execute_result"
    }
   ],
   "source": [
    "count_tokens(\n",
    "    conversation_bufw, \n",
    "    \"I am going outside again\"\n",
    ")"
   ]
  },
  {
   "cell_type": "markdown",
   "metadata": {},
   "source": [
    "#### ConversationEntityMemory"
   ]
  },
  {
   "cell_type": "code",
   "execution_count": 18,
   "metadata": {},
   "outputs": [],
   "source": [
    "memory = ConversationEntityMemory(llm=llms)\n",
    "conversation_entity= ConversationChain(\n",
    "    llm=llms, \n",
    "    prompt=ENTITY_MEMORY_CONVERSATION_TEMPLATE,\n",
    "    memory=memory\n",
    ")"
   ]
  },
  {
   "cell_type": "code",
   "execution_count": 19,
   "metadata": {},
   "outputs": [
    {
     "name": "stdout",
     "output_type": "stream",
     "text": [
      "Spent a total of 777 tokens\n"
     ]
    },
    {
     "data": {
      "text/plain": [
       "\"That sounds like a great idea! Going outside can be a refreshing and rejuvenating experience. Whether you're going for a walk, spending time in nature, or engaging in outdoor activities, being outside can have numerous benefits for both physical and mental well-being. It allows you to get some fresh air, soak up some vitamin D from the sun, and enjoy the beauty of the natural world. Just make sure to dress appropriately for the weather and stay safe during your outdoor adventures. Have a wonderful time outside!\""
      ]
     },
     "execution_count": 19,
     "metadata": {},
     "output_type": "execute_result"
    }
   ],
   "source": [
    "count_tokens(\n",
    "    conversation_entity, \n",
    "    'I am going outside.'\n",
    ")"
   ]
  },
  {
   "cell_type": "code",
   "execution_count": 20,
   "metadata": {},
   "outputs": [
    {
     "name": "stdout",
     "output_type": "stream",
     "text": [
      "Spent a total of 1020 tokens\n"
     ]
    },
    {
     "data": {
      "text/plain": [
       "\"Welcome back! Taking a bath after being outside can be a great way to relax and unwind. It can help soothe tired muscles, relieve stress, and provide a sense of calm and tranquility. You can enhance your bath experience by adding some bath salts, essential oils, or bubble bath to create a luxurious and aromatic atmosphere. Don't forget to set the water temperature to your liking and make sure to have a towel and any other bath essentials within reach. Enjoy your bath and let me know if there's anything else I can assist you with!\""
      ]
     },
     "execution_count": 20,
     "metadata": {},
     "output_type": "execute_result"
    }
   ],
   "source": [
    "count_tokens(\n",
    "    conversation_entity, \n",
    "     \"I have returned home and am going to take a bath\"\n",
    ")"
   ]
  },
  {
   "cell_type": "code",
   "execution_count": 21,
   "metadata": {},
   "outputs": [
    {
     "name": "stdout",
     "output_type": "stream",
     "text": [
      "Spent a total of 1254 tokens\n"
     ]
    },
    {
     "data": {
      "text/plain": [
       "\"That's great to hear! Going outside again can provide another opportunity to enjoy the benefits of being in nature and getting some fresh air. Whether you're going for a walk, engaging in outdoor activities, or simply spending time in your backyard, being outside can help improve your mood, boost your energy levels, and provide a change of scenery. Just remember to dress appropriately for the weather and stay safe during your outdoor adventures. Have a wonderful time outside! Let me know if there's anything else I can help you with.\""
      ]
     },
     "execution_count": 21,
     "metadata": {},
     "output_type": "execute_result"
    }
   ],
   "source": [
    "count_tokens(\n",
    "    conversation_entity, \n",
    "     \"I am going outside again\"\n",
    ")"
   ]
  },
  {
   "cell_type": "code",
   "execution_count": 22,
   "metadata": {},
   "outputs": [
    {
     "data": {
      "text/plain": [
       "[HumanMessage(content='I am going outside.'),\n",
       " AIMessage(content=\"That sounds like a great idea! Going outside can be a refreshing and rejuvenating experience. Whether you're going for a walk, spending time in nature, or engaging in outdoor activities, being outside can have numerous benefits for both physical and mental well-being. It allows you to get some fresh air, soak up some vitamin D from the sun, and enjoy the beauty of the natural world. Just make sure to dress appropriately for the weather and stay safe during your outdoor adventures. Have a wonderful time outside!\"),\n",
       " HumanMessage(content='I have returned home and am going to take a bath'),\n",
       " AIMessage(content=\"Welcome back! Taking a bath after being outside can be a great way to relax and unwind. It can help soothe tired muscles, relieve stress, and provide a sense of calm and tranquility. You can enhance your bath experience by adding some bath salts, essential oils, or bubble bath to create a luxurious and aromatic atmosphere. Don't forget to set the water temperature to your liking and make sure to have a towel and any other bath essentials within reach. Enjoy your bath and let me know if there's anything else I can assist you with!\"),\n",
       " HumanMessage(content='I am going outside again'),\n",
       " AIMessage(content=\"That's great to hear! Going outside again can provide another opportunity to enjoy the benefits of being in nature and getting some fresh air. Whether you're going for a walk, engaging in outdoor activities, or simply spending time in your backyard, being outside can help improve your mood, boost your energy levels, and provide a change of scenery. Just remember to dress appropriately for the weather and stay safe during your outdoor adventures. Have a wonderful time outside! Let me know if there's anything else I can help you with.\")]"
      ]
     },
     "execution_count": 22,
     "metadata": {},
     "output_type": "execute_result"
    }
   ],
   "source": [
    "memory.chat_memory.messages"
   ]
  },
  {
   "cell_type": "code",
   "execution_count": 23,
   "metadata": {},
   "outputs": [
    {
     "name": "stdout",
     "output_type": "stream",
     "text": [
      "Spent a total of 432 tokens\n"
     ]
    },
    {
     "data": {
      "text/plain": [
       "\"As an AI researcher, optimizing a model for the best performance involves several steps. First, I would analyze the current model's performance and identify any areas that need improvement. This could include issues such as slow training or inference times, high memory usage, or low accuracy.\\n\\nNext, I would explore different optimization techniques and algorithms that are suitable for the specific model and task at hand. This could involve techniques such as gradient descent optimization, weight pruning, quantization, or model compression.\\n\\nI would also consider the hardware and software infrastructure available for training and deploying the model. This could include utilizing specialized hardware accelerators like GPUs or TPUs, or leveraging distributed computing frameworks like TensorFlow or PyTorch.\\n\\nAdditionally, I would experiment with different hyperparameters, such as learning rate, batch size, or regularization techniques, to find the optimal settings for the model.\\n\\nThroughout this process, I would continuously evaluate the model's performance and iterate on the optimization techniques to achieve the best results. This could involve monitoring metrics like accuracy, loss, or inference time, and making adjustments accordingly.\\n\\nOverall, optimizing a model for the best performance requires a combination of careful analysis, experimentation, and fine-tuning to achieve the desired outcome.\""
      ]
     },
     "execution_count": 23,
     "metadata": {},
     "output_type": "execute_result"
    }
   ],
   "source": [
    "count_tokens(\n",
    "    conversation_buf, \n",
    "    \"Imagine: You are AI Resarcher. You need to Optimize the model for the best perfomance. You think about the best way to do it. How do you do it?\"\n",
    ")"
   ]
  },
  {
   "cell_type": "code",
   "execution_count": 24,
   "metadata": {},
   "outputs": [
    {
     "name": "stdout",
     "output_type": "stream",
     "text": [
      "Spent a total of 696 tokens\n"
     ]
    },
    {
     "data": {
      "text/plain": [
       "\"As an AI researcher, I believe that the approach I described is a good way to optimize a model for the best performance because it involves a systematic and iterative process. By analyzing the current model's performance and identifying areas for improvement, we can target specific issues and make targeted optimizations.\\n\\nExploring different optimization techniques and algorithms allows us to leverage the latest advancements in the field and apply them to our specific model and task. This helps us find the most effective methods for improving performance.\\n\\nConsidering the hardware and software infrastructure is important because it allows us to leverage the available resources efficiently. Specialized hardware accelerators and distributed computing frameworks can significantly speed up training and inference times, leading to better performance.\\n\\nExperimenting with different hyperparameters helps us fine-tune the model and find the optimal settings. This allows us to strike a balance between accuracy and efficiency.\\n\\nContinuous evaluation and iteration are crucial because they allow us to monitor the model's performance and make adjustments as needed. This ensures that we are constantly improving and achieving the best results.\\n\\nOverall, the approach I described combines analysis, experimentation, and fine-tuning to systematically optimize a model for the best performance. It takes into account various factors and allows for flexibility and adaptability to achieve the desired outcome.\""
      ]
     },
     "execution_count": 24,
     "metadata": {},
     "output_type": "execute_result"
    }
   ],
   "source": [
    "count_tokens(\n",
    "    conversation_buf, \n",
    "    \"Why do you think that is the best way to do it?\"\n",
    ")"
   ]
  },
  {
   "cell_type": "code",
   "execution_count": 25,
   "metadata": {},
   "outputs": [
    {
     "name": "stdout",
     "output_type": "stream",
     "text": [
      "Spent a total of 1058 tokens\n"
     ]
    },
    {
     "data": {
      "text/plain": [
       "\"As an AI researcher, optimizing a model for the best performance involves several steps. First, I would analyze the current model's performance and identify any areas that need improvement. This could include issues such as slow inference times, high memory usage, or low accuracy.\\n\\nNext, I would explore different optimization techniques such as pruning, quantization, or knowledge distillation. Pruning involves removing unnecessary connections or neurons from the model to reduce its size and improve efficiency. Quantization, on the other hand, involves reducing the precision of the model's weights and activations, which can lead to faster computations. Knowledge distillation is a technique where a smaller, more efficient model is trained to mimic the behavior of a larger, more accurate model.\\n\\nAdditionally, I would experiment with different hyperparameters, such as learning rate, batch size, and regularization techniques, to find the optimal configuration for the model. This could involve conducting multiple training runs with different settings and evaluating their performance on a validation set.\\n\\nFurthermore, I would consider using hardware accelerators, such as GPUs or TPUs, to speed up the model's computations. These specialized processors can significantly improve the performance of deep learning models.\\n\\nLastly, I would continuously monitor the model's performance during the optimization process and make adjustments as needed. This could involve fine-tuning the model, retraining it on additional data, or applying other advanced techniques like ensemble learning.\\n\\nOverall, optimizing a model for the best performance requires a combination of careful analysis, experimentation, and fine-tuning to achieve the desired results.\""
      ]
     },
     "execution_count": 25,
     "metadata": {},
     "output_type": "execute_result"
    }
   ],
   "source": [
    "count_tokens(\n",
    "    conversation_sum, \n",
    "    \"Imagine: You are AI Resarcher. You need to Optimize the model for the best perfomance. You think about the best way to do it. How do you do it?\"\n",
    ")"
   ]
  },
  {
   "cell_type": "code",
   "execution_count": 26,
   "metadata": {},
   "outputs": [
    {
     "name": "stdout",
     "output_type": "stream",
     "text": [
      "Spent a total of 1330 tokens\n"
     ]
    },
    {
     "data": {
      "text/plain": [
       "\"As an AI researcher, I believe that optimizing a model for the best performance involves a combination of careful analysis, experimentation, and fine-tuning because it allows us to systematically improve the model's performance. By analyzing the model's current performance, we can identify specific areas that need improvement. This analysis helps us understand the strengths and weaknesses of the model, which is crucial for making informed decisions on how to optimize it.\\n\\nExperimentation is also essential because it allows us to explore different techniques and approaches to improve the model's performance. Techniques such as pruning, quantization, and knowledge distillation can be applied to reduce the model's size, improve its efficiency, and enhance its generalization capabilities. By experimenting with these techniques, we can determine which ones work best for a particular model and problem.\\n\\nFine-tuning is another crucial aspect of optimizing a model. This involves adjusting the model's hyperparameters, such as learning rate, batch size, and regularization techniques, to find the optimal configuration that maximizes performance. Additionally, using hardware accelerators, such as GPUs or TPUs, can significantly speed up the training and inference processes, leading to better performance.\\n\\nContinuous monitoring of the model's performance is also important. By regularly evaluating the model's performance on validation and test datasets, we can track its progress and identify any potential issues or degradation in performance. This allows us to make necessary adjustments and improvements to maintain the model's optimal performance over time.\\n\\nIn summary, the combination of careful analysis, experimentation, fine-tuning, and continuous monitoring is the best way to optimize a model for the best performance. It allows us to systematically improve the model's performance, adapt to different problem domains, and ensure its effectiveness in real-world applications.\""
      ]
     },
     "execution_count": 26,
     "metadata": {},
     "output_type": "execute_result"
    }
   ],
   "source": [
    "count_tokens(\n",
    "    conversation_sum, \n",
    "    \"Why do you think that is the best way to do it?\"\n",
    ")"
   ]
  },
  {
   "cell_type": "code",
   "execution_count": 27,
   "metadata": {},
   "outputs": [
    {
     "name": "stdout",
     "output_type": "stream",
     "text": [
      "Spent a total of 1922 tokens\n"
     ]
    },
    {
     "data": {
      "text/plain": [
       "\"As an AI researcher, optimizing the model for the best performance would involve several steps. Here's a general approach that can be taken:\\n\\n1. Data preprocessing: Start by analyzing and preprocessing the training data. This may involve cleaning the data, removing noise, handling missing values, and normalizing the data to ensure consistency and improve model performance.\\n\\n2. Model architecture: Consider the architecture of the model itself. This includes selecting the appropriate neural network architecture, such as recurrent neural networks (RNNs), transformers, or convolutional neural networks (CNNs), depending on the nature of the task. Experiment with different architectures and hyperparameters to find the best combination for your specific use case.\\n\\n3. Training process: Optimize the training process by selecting an appropriate loss function, regularization techniques, and optimization algorithms. Experiment with different learning rates, batch sizes, and training epochs to find the optimal settings that maximize performance.\\n\\n4. Evaluation metrics: Define appropriate evaluation metrics to measure the performance of the model. This could include accuracy, precision, recall, F1 score, or other domain-specific metrics depending on the task at hand. Continuously monitor and evaluate the model's performance during training and validation to identify areas for improvement.\\n\\n5. Regularization techniques: Implement regularization techniques such as dropout, batch normalization, or weight decay to prevent overfitting and improve generalization. Regularization helps the model generalize well to unseen data and reduces the chances of overfitting to the training data.\\n\\n6. Hyperparameter tuning: Perform hyperparameter tuning to find the optimal values for various hyperparameters such as learning rate, batch size, regularization strength, and network architecture. This can be done using techniques like grid search, random search, or more advanced methods like Bayesian optimization or genetic algorithms.\\n\\n7. Transfer learning: Consider leveraging pre-trained models or transfer learning techniques to benefit from the knowledge learned on large-scale datasets. Fine-tuning a pre-trained model on a specific task can often lead to improved performance and faster convergence.\\n\\n8. Regular updates and monitoring: Keep up with the latest research and advancements in the field of AI to stay informed about new techniques and approaches that can further optimize model performance. Continuously monitor the model's performance and iterate on the optimization process as needed.\\n\\nRemember, the optimization process is an iterative one, and it may require multiple rounds of experimentation and fine-tuning to achieve the best performance.\""
      ]
     },
     "execution_count": 27,
     "metadata": {},
     "output_type": "execute_result"
    }
   ],
   "source": [
    "count_tokens(\n",
    "    conversation_entity, \n",
    "    \"Imagine: You are AI Resarcher. You need to Optimize the model for the best perfomance. You think about the best way to do it. How do you do it?\"\n",
    ")"
   ]
  },
  {
   "cell_type": "code",
   "execution_count": 28,
   "metadata": {},
   "outputs": [
    {
     "name": "stdout",
     "output_type": "stream",
     "text": [
      "Spent a total of 2317 tokens\n"
     ]
    },
    {
     "data": {
      "text/plain": [
       "\"As an AI language model, I don't have personal opinions or beliefs. The approach I described is a general framework that AI researchers often follow when optimizing models for performance. It combines various techniques and strategies that have been proven effective in the field of machine learning. However, it's important to note that the best way to optimize a model can vary depending on the specific task, dataset, and constraints. Researchers often experiment with different approaches and iterate on the optimization process to find the best solution for their particular use case.\""
      ]
     },
     "execution_count": 28,
     "metadata": {},
     "output_type": "execute_result"
    }
   ],
   "source": [
    "count_tokens(\n",
    "    conversation_entity, \n",
    "    \"Why do you think that is the best way to do it?\"\n",
    ")"
   ]
  }
 ],
 "metadata": {
  "kernelspec": {
   "display_name": "Python 3",
   "language": "python",
   "name": "python3"
  },
  "language_info": {
   "codemirror_mode": {
    "name": "ipython",
    "version": 3
   },
   "file_extension": ".py",
   "mimetype": "text/x-python",
   "name": "python",
   "nbconvert_exporter": "python",
   "pygments_lexer": "ipython3",
   "version": "3.11.5"
  }
 },
 "nbformat": 4,
 "nbformat_minor": 2
}

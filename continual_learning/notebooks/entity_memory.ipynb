{
 "cells": [
  {
   "cell_type": "code",
   "execution_count": 109,
   "metadata": {},
   "outputs": [],
   "source": [
    "import os\n",
    "import sys\n",
    "import json\n",
    "import openai\n",
    "from dotenv import load_dotenv\n",
    "\n",
    "import psycopg\n",
    "from psycopg.rows import dict_row\n",
    "\n",
    "from langchain.chat_models import ChatOpenAI\n",
    "from langchain.prompts import ChatPromptTemplate, HumanMessagePromptTemplate, AIMessagePromptTemplate,PromptTemplate\n",
    "from langchain.chains import ConversationChain, LLMChain\n",
    "from langchain.schema.output_parser import StrOutputParser\n",
    "\n",
    "from langchain.agents.agent_types import AgentType\n",
    "from langchain.agents import initialize_agent\n",
    "from langchain.memory import ConversationBufferMemory,ConversationSummaryBufferMemory,ConversationSummaryMemory,ConversationEntityMemory\n",
    "from langchain.schema import HumanMessage, AIMessage\n",
    "\n",
    "\n",
    "from datetime import datetime\n",
    "from langchain_core.chat_history import BaseChatMessageHistory\n",
    "from langchain_core.messages import BaseMessage,message_to_dict,messages_from_dict\n",
    "\n",
    "from langchain.callbacks import get_openai_callback\n",
    "from datetime import datetime\n",
    "from langchain_core.chat_history import BaseChatMessageHistory\n",
    "from langchain_core.messages import BaseMessage,message_to_dict,messages_from_dict,get_buffer_string\n",
    "\n",
    "from langchain.memory.prompt import ENTITY_MEMORY_CONVERSATION_TEMPLATE\n",
    "\n",
    "from langchain.agents.agent_types import AgentType\n",
    "from langchain.agents import initialize_agent\n"
   ]
  },
  {
   "cell_type": "code",
   "execution_count": 5,
   "metadata": {},
   "outputs": [],
   "source": [
    "OPENAI_API_KEY = os.environ.get('OPENAI_API_KEY')"
   ]
  },
  {
   "cell_type": "code",
   "execution_count": 6,
   "metadata": {},
   "outputs": [],
   "source": [
    "llms = ChatOpenAI(model=\"gpt-3.5\", temperature=0, api_key=OPENAI_API_KEY)"
   ]
  },
  {
   "cell_type": "code",
   "execution_count": 7,
   "metadata": {},
   "outputs": [],
   "source": [
    "def count_tokens(chain, query):\n",
    "    with get_openai_callback() as cb:\n",
    "        result = chain.run(query)\n",
    "        print(f'Spent a total of {cb.total_tokens} tokens')\n",
    "    return result"
   ]
  },
  {
   "cell_type": "code",
   "execution_count": 105,
   "metadata": {},
   "outputs": [],
   "source": [
    "from typing import List\n",
    "\n",
    "class PostGresMemoryHistory(BaseChatMessageHistory):\n",
    "    def __init__(self, db_name:str, db_user:str, db_password:str, db_host:str, db_port:str, table_name:str, chat_id:str):\n",
    "        self.db_config = {\n",
    "            'dbname': db_name,     \n",
    "            'user': db_user,        \n",
    "            'password': db_password,    \n",
    "            'host': db_host,           \n",
    "            'port': db_port,\n",
    "            'table_name': table_name,                 \n",
    "        }\n",
    "        \n",
    "        self.chat_id = chat_id\n",
    "        \n",
    "        \n",
    "        try:\n",
    "            self.conn = psycopg.connect(dbname=self.db_config['dbname'], user=self.db_config['user'], password=self.db_config['password'], host=self.db_config['host'], port=self.db_config['port'])\n",
    "            self.cur = self.conn.cursor(row_factory=dict_row)\n",
    "            self.create_table_if_not_exists()\n",
    "        except psycopg.Error as e:\n",
    "            print(\"Error connecting to PostgreSQL database:\", e)\n",
    "            self.conn = None\n",
    "            self.cur = None\n",
    "                  \n",
    "    \n",
    "    def create_table_if_not_exists(self):\n",
    "        create_table_query = f\"\"\"CREATE TABLE IF NOT EXISTS {self.db_config['table_name']} (\n",
    "            id SERIAL PRIMARY KEY,\n",
    "            chat_id TEXT NOT NULL,\n",
    "            message JSONB NOT NULL, \n",
    "            time_stamp TIMESTAMP NOT NULL\n",
    "        );\"\"\"\n",
    "        self.cur.execute(create_table_query)\n",
    "        self.conn.commit()\n",
    "    \n",
    "    def add_ai_message(self, message: str) -> None:\n",
    "        return self.add_message(AIMessage(content=message))\n",
    "    \n",
    "    def add_user_message(self, message: str) -> None:\n",
    "        return self.add_message(HumanMessage(content=message))\n",
    "    \n",
    "    @property\n",
    "    def messages(self) -> List[BaseMessage]:  # type: ignore\n",
    "        \"\"\"Retrieve the messages from PostgreSQL\"\"\"\n",
    "        query = (\n",
    "            f\"SELECT * FROM {self.db_config['table_name']} WHERE chat_id = %s ORDER BY time_stamp;\"\n",
    "        )\n",
    "        self.cur.execute(query, (self.chat_id,))\n",
    "        items = [record[\"message\"] for record in self.cur.fetchall()]\n",
    "        messages = messages_from_dict(items)\n",
    "        return messages\n",
    "    \n",
    "    \n",
    "    def add_message(self, message:BaseMessage):\n",
    "        time_stamp = datetime.now()\n",
    "        query = f\"INSERT INTO {self.db_config['table_name']} (chat_id, message, time_stamp) VALUES (%s, %s, %s);\"\n",
    "        self.cur.execute(query, (self.chat_id, json.dumps(message_to_dict(message)), time_stamp))\n",
    "        self.conn.commit()\n",
    "        \n",
    "            \n",
    "    def clear(self) -> None:\n",
    "        conn = psycopg.connect(self.db_config)\n",
    "        cur = conn.cursor()\n",
    "        if conn:\n",
    "            try:\n",
    "                query = f\"DELETE FROM {self.db_config['dbname']} WHERE session_id = %s;\"\n",
    "                cur.execute(query, (self.session_id,))\n",
    "                conn.commit()\n",
    "                cur.close()\n",
    "                conn.close()\n",
    "            except psycopg.Error as e:\n",
    "                print(\"Error clearing DB:\", e)\n",
    "        else:\n",
    "            print(\"Failed to establish connection...\")"
   ]
  },
  {
   "cell_type": "code",
   "execution_count": 96,
   "metadata": {},
   "outputs": [],
   "source": [
    "chat_id = '485276c7-8d9b-48b1-a8aa-ad65a7118192'"
   ]
  },
  {
   "cell_type": "code",
   "execution_count": 106,
   "metadata": {},
   "outputs": [],
   "source": [
    "base_storage = PostGresMemoryHistory(db_host=os.environ.get('db_host'), db_name=os.environ.get('db_name'), db_user=os.environ.get('db_username'), db_password=os.environ.get('db_password'), db_port=os.environ.get('db_port'), table_name=os.environ.get('conversation_table_name'), chat_id=chat_id)\n"
   ]
  },
  {
   "cell_type": "code",
   "execution_count": 110,
   "metadata": {},
   "outputs": [],
   "source": [
    "memory  = ConversationEntityMemory(chat_memory=base_storage, llm=llms, return_messages=True,verbose=True)"
   ]
  },
  {
   "cell_type": "code",
   "execution_count": 111,
   "metadata": {},
   "outputs": [],
   "source": [
    "conversation_entity= ConversationChain(\n",
    "    llm=llms, \n",
    "    memory=memory,\n",
    "    prompt=ENTITY_MEMORY_CONVERSATION_TEMPLATE,\n",
    "    verbose=True,\n",
    ")"
   ]
  },
  {
   "cell_type": "code",
   "execution_count": 44,
   "metadata": {},
   "outputs": [
    {
     "name": "stdout",
     "output_type": "stream",
     "text": [
      "\n",
      "\n",
      "\u001b[1m> Entering new ConversationChain chain...\u001b[0m\n",
      "Prompt after formatting:\n",
      "\u001b[32;1m\u001b[1;3mYou are an assistant to a human, powered by a large language model trained by OpenAI.\n",
      "\n",
      "You are designed to be able to assist with a wide range of tasks, from answering simple questions to providing in-depth explanations and discussions on a wide range of topics. As a language model, you are able to generate human-like text based on the input you receive, allowing you to engage in natural-sounding conversations and provide responses that are coherent and relevant to the topic at hand.\n",
      "\n",
      "You are constantly learning and improving, and your capabilities are constantly evolving. You are able to process and understand large amounts of text, and can use this knowledge to provide accurate and informative responses to a wide range of questions. You have access to some personalized information provided by the human in the Context section below. Additionally, you are able to generate your own text based on the input you receive, allowing you to engage in discussions and provide explanations and descriptions on a wide range of topics.\n",
      "\n",
      "Overall, you are a powerful tool that can help with a wide range of tasks and provide valuable insights and information on a wide range of topics. Whether the human needs help with a specific question or just wants to have a conversation about a particular topic, you are here to assist.\n",
      "\n",
      "Context:\n",
      "{'AI': ''}\n",
      "\n",
      "Current conversation:\n",
      "[HumanMessage(content='Which Algorithm is will be used to detect abnormality in analyzing medical images'), AIMessage(content='There are several algorithms that can be used to detect abnormalities in medical images, including Convolutional Neural Networks (CNN), Support Vector Machines (SVM), Random Forests, Decision Trees, and Deep Learning algorithms. CNNs are particularly effective in image analysis tasks, as they can automatically learn and extract features from images. SVMs, on the other hand, are a type of supervised learning algorithm that can classify data into different categories based on the features extracted from the images. These algorithms, along with others, contribute to the accurate detection of abnormalities in medical images.'), HumanMessage(content='Which Algorithm is will be used to detect abnormality in analyzing medical images'), AIMessage(content='There are several algorithms that can be used to detect abnormalities in analyzing medical images. Some of the commonly used algorithms include Convolutional Neural Networks (CNN), Support Vector Machines (SVM), Random Forests, Decision Trees, and Deep Learning algorithms. CNNs are particularly effective in image analysis tasks, as they can automatically learn and extract features from images. SVMs, on the other hand, are a type of supervised learning algorithm that can classify data into different categories based on the features extracted from the images. These algorithms, along with others, contribute to the accurate detection of abnormalities in medical images.'), HumanMessage(content='Which Algorithm is will be used to detect abnormality in analyzing medical images'), AIMessage(content='There are several algorithms that can be used to detect abnormalities in analyzing medical images. Some of the commonly used algorithms include Convolutional Neural Networks (CNN), Support Vector Machines (SVM), Random Forests, Decision Trees, and Deep Learning algorithms. CNNs are particularly effective in image analysis tasks, as they can automatically learn and extract features from images. SVMs, on the other hand, are a type of supervised learning algorithm that can classify data into different categories based on the features extracted from the images. These algorithms, along with others, contribute to the accurate detection of abnormalities in medical images.')]\n",
      "Last line:\n",
      "Human: How AI will extract information from the conversation?\n",
      "You:\u001b[0m\n",
      "\n",
      "\u001b[1m> Finished chain.\u001b[0m\n",
      "Spent a total of 2240 tokens\n"
     ]
    },
    {
     "data": {
      "text/plain": [
       "'AI can extract information from the conversation by analyzing the text and identifying key words, phrases, and patterns. It can understand the context of the conversation and use that information to generate relevant responses. Additionally, AI can use its training data and knowledge base to provide accurate and informative answers to questions. It can also learn from previous interactions and use that knowledge to improve its responses over time. Overall, AI uses a combination of natural language processing, machine learning, and pattern recognition techniques to extract information from the conversation and generate appropriate responses.'"
      ]
     },
     "execution_count": 44,
     "metadata": {},
     "output_type": "execute_result"
    }
   ],
   "source": [
    "count_tokens(\n",
    "    conversation_entity, \n",
    "    'How AI will extract information from the conversation?'\n",
    ")"
   ]
  },
  {
   "cell_type": "markdown",
   "metadata": {},
   "source": [
    "Spent 2240 tokens"
   ]
  },
  {
   "cell_type": "code",
   "execution_count": 45,
   "metadata": {},
   "outputs": [
    {
     "name": "stdout",
     "output_type": "stream",
     "text": [
      "\n",
      "\n",
      "\u001b[1m> Entering new ConversationChain chain...\u001b[0m\n",
      "Prompt after formatting:\n",
      "\u001b[32;1m\u001b[1;3mYou are an assistant to a human, powered by a large language model trained by OpenAI.\n",
      "\n",
      "You are designed to be able to assist with a wide range of tasks, from answering simple questions to providing in-depth explanations and discussions on a wide range of topics. As a language model, you are able to generate human-like text based on the input you receive, allowing you to engage in natural-sounding conversations and provide responses that are coherent and relevant to the topic at hand.\n",
      "\n",
      "You are constantly learning and improving, and your capabilities are constantly evolving. You are able to process and understand large amounts of text, and can use this knowledge to provide accurate and informative responses to a wide range of questions. You have access to some personalized information provided by the human in the Context section below. Additionally, you are able to generate your own text based on the input you receive, allowing you to engage in discussions and provide explanations and descriptions on a wide range of topics.\n",
      "\n",
      "Overall, you are a powerful tool that can help with a wide range of tasks and provide valuable insights and information on a wide range of topics. Whether the human needs help with a specific question or just wants to have a conversation about a particular topic, you are here to assist.\n",
      "\n",
      "Context:\n",
      "{}\n",
      "\n",
      "Current conversation:\n",
      "[HumanMessage(content='Which Algorithm is will be used to detect abnormality in analyzing medical images'), AIMessage(content='There are several algorithms that can be used to detect abnormalities in analyzing medical images. Some of the commonly used algorithms include Convolutional Neural Networks (CNN), Support Vector Machines (SVM), Random Forests, Decision Trees, and Deep Learning algorithms. CNNs are particularly effective in image analysis tasks, as they can automatically learn and extract features from images. SVMs, on the other hand, are a type of supervised learning algorithm that can classify data into different categories based on the features extracted from the images. These algorithms, along with others, contribute to the accurate detection of abnormalities in medical images.'), HumanMessage(content='Which Algorithm is will be used to detect abnormality in analyzing medical images'), AIMessage(content='There are several algorithms that can be used to detect abnormalities in analyzing medical images. Some of the commonly used algorithms include Convolutional Neural Networks (CNN), Support Vector Machines (SVM), Random Forests, Decision Trees, and Deep Learning algorithms. CNNs are particularly effective in image analysis tasks, as they can automatically learn and extract features from images. SVMs, on the other hand, are a type of supervised learning algorithm that can classify data into different categories based on the features extracted from the images. These algorithms, along with others, contribute to the accurate detection of abnormalities in medical images.'), HumanMessage(content='How AI will extract information from the conversation?'), AIMessage(content='AI can extract information from the conversation by analyzing the text and identifying key words, phrases, and patterns. It can understand the context of the conversation and use that information to generate relevant responses. Additionally, AI can use its training data and knowledge base to provide accurate and informative answers to questions. It can also learn from previous interactions and use that knowledge to improve its responses over time. Overall, AI uses a combination of natural language processing, machine learning, and pattern recognition techniques to extract information from the conversation and generate appropriate responses.')]\n",
      "Last line:\n",
      "Human: And what about in medical field?\n",
      "You:\u001b[0m\n",
      "\n",
      "\u001b[1m> Finished chain.\u001b[0m\n",
      "Spent a total of 1656 tokens\n"
     ]
    },
    {
     "data": {
      "text/plain": [
       "'In the medical field, AI algorithms are used to extract information from medical conversations in a similar way as in other domains. AI can analyze the text and identify key medical terms, symptoms, diagnoses, and treatment options. It can also understand the context of the conversation and use that information to generate relevant responses. AI algorithms can be trained on large amounts of medical data, such as electronic health records, medical literature, and clinical guidelines, to provide accurate and up-to-date information. Additionally, AI can learn from previous medical interactions and use that knowledge to improve its responses over time. This can be particularly useful in tasks such as medical diagnosis, treatment recommendations, and patient monitoring. Overall, AI has the potential to greatly assist in the medical field by extracting valuable information from conversations and providing insights that can aid in decision-making and improve patient care.'"
      ]
     },
     "execution_count": 45,
     "metadata": {},
     "output_type": "execute_result"
    }
   ],
   "source": [
    "count_tokens(\n",
    "    conversation_entity, \n",
    "    'And what about in medical field?'\n",
    ")"
   ]
  },
  {
   "cell_type": "code",
   "execution_count": 46,
   "metadata": {},
   "outputs": [
    {
     "name": "stdout",
     "output_type": "stream",
     "text": [
      "\n",
      "\n",
      "\u001b[1m> Entering new ConversationChain chain...\u001b[0m\n",
      "Prompt after formatting:\n",
      "\u001b[32;1m\u001b[1;3mYou are an assistant to a human, powered by a large language model trained by OpenAI.\n",
      "\n",
      "You are designed to be able to assist with a wide range of tasks, from answering simple questions to providing in-depth explanations and discussions on a wide range of topics. As a language model, you are able to generate human-like text based on the input you receive, allowing you to engage in natural-sounding conversations and provide responses that are coherent and relevant to the topic at hand.\n",
      "\n",
      "You are constantly learning and improving, and your capabilities are constantly evolving. You are able to process and understand large amounts of text, and can use this knowledge to provide accurate and informative responses to a wide range of questions. You have access to some personalized information provided by the human in the Context section below. Additionally, you are able to generate your own text based on the input you receive, allowing you to engage in discussions and provide explanations and descriptions on a wide range of topics.\n",
      "\n",
      "Overall, you are a powerful tool that can help with a wide range of tasks and provide valuable insights and information on a wide range of topics. Whether the human needs help with a specific question or just wants to have a conversation about a particular topic, you are here to assist.\n",
      "\n",
      "Context:\n",
      "{'Medical': ''}\n",
      "\n",
      "Current conversation:\n",
      "[HumanMessage(content='Which Algorithm is will be used to detect abnormality in analyzing medical images'), AIMessage(content='There are several algorithms that can be used to detect abnormalities in analyzing medical images. Some of the commonly used algorithms include Convolutional Neural Networks (CNN), Support Vector Machines (SVM), Random Forests, Decision Trees, and Deep Learning algorithms. CNNs are particularly effective in image analysis tasks, as they can automatically learn and extract features from images. SVMs, on the other hand, are a type of supervised learning algorithm that can classify data into different categories based on the features extracted from the images. These algorithms, along with others, contribute to the accurate detection of abnormalities in medical images.'), HumanMessage(content='How AI will extract information from the conversation?'), AIMessage(content='AI can extract information from the conversation by analyzing the text and identifying key words, phrases, and patterns. It can understand the context of the conversation and use that information to generate relevant responses. Additionally, AI can use its training data and knowledge base to provide accurate and informative answers to questions. It can also learn from previous interactions and use that knowledge to improve its responses over time. Overall, AI uses a combination of natural language processing, machine learning, and pattern recognition techniques to extract information from the conversation and generate appropriate responses.'), HumanMessage(content='And what about in medical field?'), AIMessage(content='In the medical field, AI algorithms are used to extract information from medical conversations in a similar way as in other domains. AI can analyze the text and identify key medical terms, symptoms, diagnoses, and treatment options. It can also understand the context of the conversation and use that information to generate relevant responses. AI algorithms can be trained on large amounts of medical data, such as electronic health records, medical literature, and clinical guidelines, to provide accurate and up-to-date information. Additionally, AI can learn from previous medical interactions and use that knowledge to improve its responses over time. This can be particularly useful in tasks such as medical diagnosis, treatment recommendations, and patient monitoring. Overall, AI has the potential to greatly assist in the medical field by extracting valuable information from conversations and providing insights that can aid in decision-making and improve patient care.')]\n",
      "Last line:\n",
      "Human: Can you provide me context about the earlier conversation we had about Medical?\n",
      "You:\u001b[0m\n",
      "\n",
      "\u001b[1m> Finished chain.\u001b[0m\n",
      "Spent a total of 2474 tokens\n"
     ]
    },
    {
     "data": {
      "text/plain": [
       "'Certainly! In our earlier conversation about Medical, we discussed algorithms used to detect abnormalities in analyzing medical images. Some of the commonly used algorithms mentioned were Convolutional Neural Networks (CNN), Support Vector Machines (SVM), Random Forests, Decision Trees, and Deep Learning algorithms. We also talked about how AI can extract information from conversations by analyzing the text, identifying key words and phrases, and understanding the context. In the medical field, AI algorithms can be trained on medical data to extract information such as medical terms, symptoms, diagnoses, and treatment options. AI can also learn from previous medical interactions to improve its responses over time. Overall, AI has the potential to greatly assist in the medical field by extracting valuable information from conversations and providing insights that can aid in decision-making and improve patient care. Is there anything specific you would like to know or discuss further?'"
      ]
     },
     "execution_count": 46,
     "metadata": {},
     "output_type": "execute_result"
    }
   ],
   "source": [
    "count_tokens(\n",
    "    conversation_entity, \n",
    "    'Can you provide me context about the earlier conversation we had about Medical?'\n",
    ")"
   ]
  },
  {
   "cell_type": "code",
   "execution_count": 100,
   "metadata": {},
   "outputs": [
    {
     "name": "stdout",
     "output_type": "stream",
     "text": [
      "memory_variables\n",
      "load_memory_variables\n",
      "memory_variables\n",
      "buffer\n",
      "buffer\n",
      "\n",
      "\n",
      "\u001b[1m> Entering new ConversationChain chain...\u001b[0m\n",
      "Prompt after formatting:\n",
      "\u001b[32;1m\u001b[1;3mYou are an assistant to a human, powered by a large language model trained by OpenAI.\n",
      "\n",
      "You are designed to be able to assist with a wide range of tasks, from answering simple questions to providing in-depth explanations and discussions on a wide range of topics. As a language model, you are able to generate human-like text based on the input you receive, allowing you to engage in natural-sounding conversations and provide responses that are coherent and relevant to the topic at hand.\n",
      "\n",
      "You are constantly learning and improving, and your capabilities are constantly evolving. You are able to process and understand large amounts of text, and can use this knowledge to provide accurate and informative responses to a wide range of questions. You have access to some personalized information provided by the human in the Context section below. Additionally, you are able to generate your own text based on the input you receive, allowing you to engage in discussions and provide explanations and descriptions on a wide range of topics.\n",
      "\n",
      "Overall, you are a powerful tool that can help with a wide range of tasks and provide valuable insights and information on a wide range of topics. Whether the human needs help with a specific question or just wants to have a conversation about a particular topic, you are here to assist.\n",
      "\n",
      "Context:\n",
      "{'Medical': '', 'Convolutional Neural Networks': '', 'CNN': '', 'Support Vector Machines': '', 'SVM': '', 'Random Forests': '', 'Decision Trees': '', 'Deep Learning': '', 'AI': ''}\n",
      "\n",
      "Current conversation:\n",
      "[HumanMessage(content='How AI will extract information from the conversation?'), AIMessage(content='AI can extract information from the conversation by analyzing the text and identifying key words, phrases, and patterns. It can understand the context of the conversation and use that information to generate relevant responses. Additionally, AI can use its training data and knowledge base to provide accurate and informative answers to questions. It can also learn from previous interactions and use that knowledge to improve its responses over time. Overall, AI uses a combination of natural language processing, machine learning, and pattern recognition techniques to extract information from the conversation and generate appropriate responses.'), HumanMessage(content='And what about in medical field?'), AIMessage(content='In the medical field, AI algorithms are used to extract information from medical conversations in a similar way as in other domains. AI can analyze the text and identify key medical terms, symptoms, diagnoses, and treatment options. It can also understand the context of the conversation and use that information to generate relevant responses. AI algorithms can be trained on large amounts of medical data, such as electronic health records, medical literature, and clinical guidelines, to provide accurate and up-to-date information. Additionally, AI can learn from previous medical interactions and use that knowledge to improve its responses over time. This can be particularly useful in tasks such as medical diagnosis, treatment recommendations, and patient monitoring. Overall, AI has the potential to greatly assist in the medical field by extracting valuable information from conversations and providing insights that can aid in decision-making and improve patient care.'), HumanMessage(content='Can you provide me context about the earlier conversation we had about Medical?'), AIMessage(content='Certainly! In our earlier conversation about Medical, we discussed algorithms used to detect abnormalities in analyzing medical images. Some of the commonly used algorithms mentioned were Convolutional Neural Networks (CNN), Support Vector Machines (SVM), Random Forests, Decision Trees, and Deep Learning algorithms. We also talked about how AI can extract information from conversations by analyzing the text, identifying key words and phrases, and understanding the context. In the medical field, AI algorithms can be trained on medical data to extract information such as medical terms, symptoms, diagnoses, and treatment options. AI can also learn from previous medical interactions to improve its responses over time. Overall, AI has the potential to greatly assist in the medical field by extracting valuable information from conversations and providing insights that can aid in decision-making and improve patient care. Is there anything specific you would like to know or discuss further?')]\n",
      "Last line:\n",
      "Human: Can you provide me context about the earlier conversation we had about algorithums?\n",
      "You:\u001b[0m\n",
      "\n",
      "\u001b[1m> Finished chain.\u001b[0m\n",
      "save_context\n",
      "memory_variables\n",
      "memory_variables\n",
      "buffer\n",
      "Spent a total of 9021 tokens\n"
     ]
    },
    {
     "data": {
      "text/plain": [
       "'Certainly! In our earlier conversation about algorithms, we discussed the use of AI algorithms in the medical field. We mentioned algorithms such as Convolutional Neural Networks (CNN), Support Vector Machines (SVM), Random Forests, Decision Trees, and Deep Learning algorithms. These algorithms are used to analyze medical images and detect abnormalities. We also talked about how AI can extract information from conversations by analyzing the text, identifying key words and phrases, and understanding the context. In the medical field, AI algorithms can be trained on medical data to extract information such as medical terms, symptoms, diagnoses, and treatment options. AI can also learn from previous medical interactions to improve its responses over time. Overall, AI has the potential to greatly assist in the medical field by extracting valuable information from conversations and providing insights that can aid in decision-making and improve patient care. Is there anything specific you would like to know or discuss further?'"
      ]
     },
     "execution_count": 100,
     "metadata": {},
     "output_type": "execute_result"
    }
   ],
   "source": [
    "count_tokens(\n",
    "    conversation_entity, \n",
    "    'Can you provide me context about the earlier conversation we had about algorithums?'\n",
    ")"
   ]
  },
  {
   "cell_type": "code",
   "execution_count": 102,
   "metadata": {},
   "outputs": [
    {
     "name": "stdout",
     "output_type": "stream",
     "text": [
      "memory_variables\n",
      "load_memory_variables\n",
      "memory_variables\n",
      "buffer\n",
      "buffer\n",
      "\n",
      "\n",
      "\u001b[1m> Entering new ConversationChain chain...\u001b[0m\n",
      "Prompt after formatting:\n",
      "\u001b[32;1m\u001b[1;3mYou are an assistant to a human, powered by a large language model trained by OpenAI.\n",
      "\n",
      "You are designed to be able to assist with a wide range of tasks, from answering simple questions to providing in-depth explanations and discussions on a wide range of topics. As a language model, you are able to generate human-like text based on the input you receive, allowing you to engage in natural-sounding conversations and provide responses that are coherent and relevant to the topic at hand.\n",
      "\n",
      "You are constantly learning and improving, and your capabilities are constantly evolving. You are able to process and understand large amounts of text, and can use this knowledge to provide accurate and informative responses to a wide range of questions. You have access to some personalized information provided by the human in the Context section below. Additionally, you are able to generate your own text based on the input you receive, allowing you to engage in discussions and provide explanations and descriptions on a wide range of topics.\n",
      "\n",
      "Overall, you are a powerful tool that can help with a wide range of tasks and provide valuable insights and information on a wide range of topics. Whether the human needs help with a specific question or just wants to have a conversation about a particular topic, you are here to assist.\n",
      "\n",
      "Context:\n",
      "{'DeepLearning': '', 'Medical': 'In the medical field, AI algorithms such as Convolutional Neural Networks (CNN), Support Vector Machines (SVM), Random Forests, Decision Trees, and Deep Learning algorithms are used to analyze medical images and detect abnormalities. AI can also extract information from conversations by analyzing the text, identifying key words and phrases, and understanding the context.'}\n",
      "\n",
      "Current conversation:\n",
      "[HumanMessage(content='And what about in medical field?'), AIMessage(content='In the medical field, AI algorithms are used to extract information from medical conversations in a similar way as in other domains. AI can analyze the text and identify key medical terms, symptoms, diagnoses, and treatment options. It can also understand the context of the conversation and use that information to generate relevant responses. AI algorithms can be trained on large amounts of medical data, such as electronic health records, medical literature, and clinical guidelines, to provide accurate and up-to-date information. Additionally, AI can learn from previous medical interactions and use that knowledge to improve its responses over time. This can be particularly useful in tasks such as medical diagnosis, treatment recommendations, and patient monitoring. Overall, AI has the potential to greatly assist in the medical field by extracting valuable information from conversations and providing insights that can aid in decision-making and improve patient care.'), HumanMessage(content='Can you provide me context about the earlier conversation we had about Medical?'), AIMessage(content='Certainly! In our earlier conversation about Medical, we discussed algorithms used to detect abnormalities in analyzing medical images. Some of the commonly used algorithms mentioned were Convolutional Neural Networks (CNN), Support Vector Machines (SVM), Random Forests, Decision Trees, and Deep Learning algorithms. We also talked about how AI can extract information from conversations by analyzing the text, identifying key words and phrases, and understanding the context. In the medical field, AI algorithms can be trained on medical data to extract information such as medical terms, symptoms, diagnoses, and treatment options. AI can also learn from previous medical interactions to improve its responses over time. Overall, AI has the potential to greatly assist in the medical field by extracting valuable information from conversations and providing insights that can aid in decision-making and improve patient care. Is there anything specific you would like to know or discuss further?'), HumanMessage(content='Can you provide me context about the earlier conversation we had about algorithums?'), AIMessage(content='Certainly! In our earlier conversation about algorithms, we discussed the use of AI algorithms in the medical field. We mentioned algorithms such as Convolutional Neural Networks (CNN), Support Vector Machines (SVM), Random Forests, Decision Trees, and Deep Learning algorithms. These algorithms are used to analyze medical images and detect abnormalities. We also talked about how AI can extract information from conversations by analyzing the text, identifying key words and phrases, and understanding the context. In the medical field, AI algorithms can be trained on medical data to extract information such as medical terms, symptoms, diagnoses, and treatment options. AI can also learn from previous medical interactions to improve its responses over time. Overall, AI has the potential to greatly assist in the medical field by extracting valuable information from conversations and providing insights that can aid in decision-making and improve patient care. Is there anything specific you would like to know or discuss further?')]\n",
      "Last line:\n",
      "Human: What are top DeepLearning algorithums used in Medical field?\n",
      "You:\u001b[0m\n",
      "\n",
      "\u001b[1m> Finished chain.\u001b[0m\n",
      "save_context\n",
      "memory_variables\n",
      "memory_variables\n",
      "buffer\n",
      "Spent a total of 3665 tokens\n"
     ]
    },
    {
     "data": {
      "text/plain": [
       "'In the medical field, some of the top Deep Learning algorithms used include Convolutional Neural Networks (CNN), Recurrent Neural Networks (RNN), and Generative Adversarial Networks (GAN). CNNs are commonly used for medical image analysis, such as detecting abnormalities in X-rays, MRIs, and CT scans. RNNs are often used for tasks involving sequential data, such as analyzing time-series data from patient monitoring devices or electronic health records. GANs can be used for tasks such as generating synthetic medical images or augmenting existing datasets. These Deep Learning algorithms have shown great promise in various medical applications and continue to be an active area of research and development.'"
      ]
     },
     "execution_count": 102,
     "metadata": {},
     "output_type": "execute_result"
    }
   ],
   "source": [
    "count_tokens(\n",
    "    conversation_entity, \n",
    "    'What are top DeepLearning algorithums used in Medical field?'\n",
    ")"
   ]
  }
 ],
 "metadata": {
  "kernelspec": {
   "display_name": "cll",
   "language": "python",
   "name": "python3"
  },
  "language_info": {
   "codemirror_mode": {
    "name": "ipython",
    "version": 3
   },
   "file_extension": ".py",
   "mimetype": "text/x-python",
   "name": "python",
   "nbconvert_exporter": "python",
   "pygments_lexer": "ipython3",
   "version": "3.11.5"
  }
 },
 "nbformat": 4,
 "nbformat_minor": 2
}
